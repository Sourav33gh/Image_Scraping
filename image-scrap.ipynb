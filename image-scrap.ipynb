{
 "cells": [
  {
   "cell_type": "code",
   "execution_count": 1,
   "metadata": {},
   "outputs": [],
   "source": [
    "import requests\n",
    "import logging\n",
    "import os\n",
    "from bs4 import BeautifulSoup\n",
    "from urllib.request import urlopen "
   ]
  },
  {
   "cell_type": "code",
   "execution_count": 2,
   "metadata": {},
   "outputs": [],
   "source": [
    "save_dir=\"images/\"    # Creating a new directory called \"images\" by using the below code.This is my folder name where I want to save my images\n",
    "if not os.path.exists(save_dir):\n",
    "    os.makedirs(save_dir)"
   ]
  },
  {
   "cell_type": "code",
   "execution_count": 58,
   "metadata": {},
   "outputs": [],
   "source": [
    "\n",
    "query=\"warren buffett\"  # Then you have to define \"query\" variable with name which you want to search for and then paste the url here and change q=query(variable name) and make it comment\n",
    "#url=https://www.google.com/search?sca_esv=808c4f249ba0e78b&sxsrf=ADLYWIJG6V_8poOS5-PU_Thhc6UKlhzvnw:1730547628973&q={query}&udm=2&fbs=AEQNm0DPvcmG_nCbmwtBO9j6YBzM68ZanC7g01Skprhw5JoufeOS3s50R2UVAdFKPiGec2s70dsafSzt3Srk8zYXgpdFG5FfofmzpwxUIJ5f2iIJrHTRoaSC7aulU2uwrHgJk4UGo5WLBV4m1G0HdtrY_kzqlNtPVe2l0044_OEmMZwujHb4tcBPX0LWuL1RlDJAQhZEFDHvVLHiGyUetf8GOS69ajMlXQ&sa=X&ved=2ahUKEwi3lMSlyL2JAxWEoGMGHaTqItIQtKgLegQIFRAB&biw=1366&bih=599&dpr=1\n",
    "# If u want to get different images then you have to change the query name and run the following below code with desired url again in same process and then check"
   ]
  },
  {
   "cell_type": "code",
   "execution_count": null,
   "metadata": {},
   "outputs": [],
   "source": [
    "# Then create request to get the desired query and the syntax will be \"requests.get()\"\n",
    "# Then paste the desired URL within parentheses and after ? mark put q={query} and turn the URL in Fstring\n",
    "# Use variable for requests and we will collect this request in variable \"response\""
   ]
  },
  {
   "cell_type": "code",
   "execution_count": 59,
   "metadata": {},
   "outputs": [],
   "source": [
    "response=requests.get(f\"https://www.google.com/search?sca_esv=808c4f249ba0e78b&sxsrf=ADLYWIJG6V_8poOS5-PU_Thhc6UKlhzvnw:1730547628973&q={query}&udm=2&fbs=AEQNm0DPvcmG_nCbmwtBO9j6YBzM68ZanC7g01Skprhw5JoufeOS3s50R2UVAdFKPiGec2s70dsafSzt3Srk8zYXgpdFG5FfofmzpwxUIJ5f2iIJrHTRoaSC7aulU2uwrHgJk4UGo5WLBV4m1G0HdtrY_kzqlNtPVe2l0044_OEmMZwujHb4tcBPX0LWuL1RlDJAQhZEFDHvVLHiGyUetf8GOS69ajMlXQ&sa=X&ved=2ahUKEwi3lMSlyL2JAxWEoGMGHaTqItIQtKgLegQIFRAB&biw=1366&bih=599&dpr=1\")"
   ]
  },
  {
   "cell_type": "code",
   "execution_count": null,
   "metadata": {},
   "outputs": [],
   "source": [
    "# After running this code if u get \"response\" [200] that means it is correct"
   ]
  },
  {
   "cell_type": "code",
   "execution_count": null,
   "metadata": {},
   "outputs": [
    {
     "data": {
      "text/plain": [
       "<Response [200]>"
      ]
     },
     "execution_count": 60,
     "metadata": {},
     "output_type": "execute_result"
    }
   ],
   "source": [
    "# If u get response 200 then everything is ok\n",
    "response "
   ]
  },
  {
   "cell_type": "code",
   "execution_count": null,
   "metadata": {},
   "outputs": [],
   "source": [
    "# From this response I will fetch the \"content\" by using following code with variable name"
   ]
  },
  {
   "cell_type": "code",
   "execution_count": 61,
   "metadata": {},
   "outputs": [],
   "source": [
    "# To align html tags we r using \"html.parser\"\n",
    "soup=BeautifulSoup(response.content,\"html.parser\")  \n",
    "# \"soup\" is nothing but variable u can write any name"
   ]
  },
  {
   "cell_type": "code",
   "execution_count": 62,
   "metadata": {},
   "outputs": [
    {
     "data": {
      "text/plain": [
       "<!DOCTYPE html PUBLIC \"-//WAPFORUM//DTD XHTML Mobile 1.0//EN\" \"http://www.wapforum.org/DTD/xhtml-mobile10.dtd\">\n",
       "<html lang=\"en-IN\" xmlns=\"http://www.w3.org/1999/xhtml\"><head><meta content=\"application/xhtml+xml; charset=utf-8\" http-equiv=\"Content-Type\"/><meta content=\"no-cache\" name=\"Cache-Control\"/><title>warren buffett - Google Search</title><style>a{text-decoration:none;color:inherit}a:hover{text-decoration:underline}a img{border:0}body{font-family:arial,sans-serif;padding:8px;margin:0 auto;max-width:700px;min-width:240px;}.FbhRzb{border-left:thin solid #dadce0;border-right:thin solid #dadce0;border-top:thin solid #dadce0;height:40px;overflow:hidden}.n692Zd{margin-bottom:10px}.cvifge{height:40px;border-spacing:0}.QvGUP{height:40px;padding:0 8px 0 8px;vertical-align:top}.O4cRJf{height:40px;width:100%;padding:0;padding-right:14px}.O1ePr{height:40px;padding:0;vertical-align:top}.kgJEQe{height:36px;width:98px;vertical-align:top;margin-top:4px}.lXLRf{vertical-align:top}.MhzMZd{border:0;vertical-align:middle;font-size:14px;height:40px;padding:0;width:100%;padding-left:14px}.xB0fq{height:40px;border:none;font-size:14px;background-color:#1a73e8;color:#fff;padding:0 14px;margin:0;vertical-align:top;cursor:pointer}.xB0fq:focus{border:1px solid #1a73e8}.M7pB2{border:thin solid #dadce0;margin:0 0 3px 0;font-size:13px;font-weight:500;height:40px}.euZec{width:100%;height:40px;text-align:center;border-spacing:0}table.euZec td{padding:0;width:25%}.QIqI7{display:inline-block;padding-top:4px;font-weight:bold;color:#4285f4}.EY24We{border-bottom:2px solid #4285f4}.CsQyDc{display:inline-block;color:#70757a}.TuS8Ad{font-size:14px}.HddGcc{padding:8px;color:#70757a}.dzp8ae{font-weight:bold;color:#3c4043}.rEM8G{color:#70757a}.bookcf{table-layout:fixed;width:100%;border-spacing:0}.InWNIe{text-align:center}.uZgmoc{border:thin solid #dadce0;color:#70757a;font-size:14px;text-align:center;table-layout:fixed;width:100%}.frGj1b{display:block;padding:16px 0 12px 0;width:100%}.BnJWBc{text-align:center;padding:6px 0 13px 0;height:35px}.e3goi{vertical-align:top;padding:0;height:180px}.GpQGbf{margin:auto;border-collapse:collapse;border-spacing:0;width:100%}</style></head><body><style>.X6ZCif{color:#202124;font-size:11px;line-height:16px;display:inline-block;padding-top:2px;overflow:hidden;padding-bottom:4px;width:100%}.TwVfHd{border-radius:16px;border:thin solid #dadce0;display:inline-block;padding:8px 8px;margin-right:8px;margin-bottom:4px}.yekiAe{background-color:#dadce0}.jjVJ4e{width:100%}.ezO2md{border:thin solid #dadce0;padding:16px 14px 12px 14px;margin-bottom:10px;font-family:arial,sans-serif}.lIMUZd{font-family:arial,sans-serif}.RntSmf{border-spacing:0}.lgD2Tc{width:100%}.SpelHe{text-align:center}.SpelHe{position:relative}.kCmkOe{position:relative}.kCmkOe{width:162px;height:140px;line-height:140px;overflow:'hidden';text-align:center}.DS1iW{text-align:center;margin:auto;vertical-align:middle;max-width:162px;max-height:140px}.AlD19d{padding-top:2px;padding-bottom:8px;}.fYyStc{word-break:break-word}.ynsChf{display:block;white-space:nowrap;overflow:hidden;text-overflow:ellipsis}.Fj3V3b{color:#1967d2;font-size:14px;line-height:20px}.FrIlee{color:#202124;font-size:11px;line-height:16px}.F9iS2e{color:#70757a;font-size:11px;line-height:16px}.WMQ2Le{color:#70757a;font-size:12px;line-height:16px}.x3G5ab{color:#202124;font-size:12px;line-height:16px}.fuLhoc{color:#1967d2;font-size:16px;line-height:20px}.epoveb{font-size:24px;line-height:28px;font-weight:400;color:#202124}.dXDvrc{color:#0d652d;font-size:14px;line-height:20px;word-wrap:break-word}.dloBPe{font-weight:bold}.YVIcad{color:#70757a}.JkVVdd{color:#ea4335}.oXZRFd{color:#ea4335}.MQHtg{color:#fbbc04}.pyMRrb{color:#1e8e3e}.EtTZid{color:#1e8e3e}.M3vVJe{color:#1967d2}.qXLe6d{display:block}.NHQNef{font-style:italic}.Cb8Z7c{white-space:pre}a.ZWRArf{text-decoration:none}a .CVA68e:hover{text-decoration:underline}</style><div class=\"n692Zd\"><div class=\"BnJWBc\"><a class=\"lXLRf\" href=\"/?sa=X&amp;sca_esv=808c4f249ba0e78b&amp;biw=1366&amp;bih=599&amp;output=images&amp;ie=UTF-8&amp;tbm=isch&amp;ved=0ahUKEwi99qXHyb2JAxUxRmwGHfANArcQPAgC\"><img alt=\"Google\" class=\"kgJEQe\" src=\"/images/branding/searchlogo/1x/googlelogo_desk_heirloom_color_150x55dp.gif\"/></a></div><div class=\"FbhRzb\"><form action=\"/search\"><input name=\"sca_esv\" type=\"hidden\" value=\"808c4f249ba0e78b\"/><input name=\"biw\" type=\"hidden\" value=\"1366\"/><input name=\"bih\" type=\"hidden\" value=\"599\"/><input name=\"ie\" type=\"hidden\" value=\"ISO-8859-1\"/><input name=\"tbm\" type=\"hidden\" value=\"isch\"/><input name=\"oq\" type=\"hidden\"/><input name=\"aqs\" type=\"hidden\"/><table class=\"cvifge\"><tr><td class=\"O4cRJf\"><input class=\"MhzMZd\" name=\"q\" type=\"text\" value=\"warren buffett\"/></td><td class=\"O1ePr\"><input class=\"xB0fq\" type=\"submit\" value=\"Search\"/></td></tr></table></form></div><div class=\"M7pB2\"><table class=\"euZec\"><tbody><tr><td><a class=\"CsQyDc\" href=\"/search?q=warren+buffett&amp;sca_esv=808c4f249ba0e78b&amp;biw=1366&amp;bih=599&amp;ie=UTF-8&amp;source=lnms&amp;fbs=AEQNm0DPvcmG_nCbmwtBO9j6YBzM68ZanC7g01Skprhw5JoufeOS3s50R2UVAdFKPiGec2s70dsafSzt3Srk8zYXgpdFG5FfofmzpwxUIJ5f2iIJrHTRoaSC7aulU2uwrHgJk4UGo5WLBV4m1G0HdtrY_kzqlNtPVe2l0044_OEmMZwujHb4tcBPX0LWuL1RlDJAQhZEFDHvVLHiGyUetf8GOS69ajMlXQ&amp;sa=X&amp;ved=0ahUKEwi99qXHyb2JAxUxRmwGHfANArcQ_AUIBCgA\">ALL</a></td><td><a class=\"CsQyDc\" href=\"/search?q=warren+buffett&amp;sca_esv=808c4f249ba0e78b&amp;biw=1366&amp;bih=599&amp;ie=UTF-8&amp;tbm=nws&amp;source=lnms&amp;fbs=AEQNm0DPvcmG_nCbmwtBO9j6YBzM68ZanC7g01Skprhw5JoufeOS3s50R2UVAdFKPiGec2s70dsafSzt3Srk8zYXgpdFG5FfofmzpwxUIJ5f2iIJrHTRoaSC7aulU2uwrHgJk4UGo5WLBV4m1G0HdtrY_kzqlNtPVe2l0044_OEmMZwujHb4tcBPX0LWuL1RlDJAQhZEFDHvVLHiGyUetf8GOS69ajMlXQ&amp;sa=X&amp;ved=0ahUKEwi99qXHyb2JAxUxRmwGHfANArcQ_AUIBSgB\">NEWS</a></td><td class=\"EY24We\"><span class=\"QIqI7\">IMAGES</span></td><td><a class=\"CsQyDc\" href=\"/search?q=warren+buffett&amp;sca_esv=808c4f249ba0e78b&amp;biw=1366&amp;bih=599&amp;ie=UTF-8&amp;tbm=bks&amp;source=lnms&amp;fbs=AEQNm0DPvcmG_nCbmwtBO9j6YBzM68ZanC7g01Skprhw5JoufeOS3s50R2UVAdFKPiGec2s70dsafSzt3Srk8zYXgpdFG5FfofmzpwxUIJ5f2iIJrHTRoaSC7aulU2uwrHgJk4UGo5WLBV4m1G0HdtrY_kzqlNtPVe2l0044_OEmMZwujHb4tcBPX0LWuL1RlDJAQhZEFDHvVLHiGyUetf8GOS69ajMlXQ&amp;sa=X&amp;ved=0ahUKEwi99qXHyb2JAxUxRmwGHfANArcQ_AUIBygD\">BOOKS</a></td></tr></tbody></table></div></div><div><table class=\"GpQGbf\"><tr><td align=\"center\" class=\"e3goi\"><div class=\"jjVJ4e\"> <div> <div class=\"lIMUZd\"><div><table class=\"RntSmf\"><tr><td><a href=\"/url?q=https://en.wikipedia.org/wiki/Warren_Buffett&amp;sa=U&amp;ved=2ahUKEwi99qXHyb2JAxUxRmwGHfANArcQqoUBegQIBhAB&amp;usg=AOvVaw2OIzzA77CIO1H6k_ZzbHHZ\"><div class=\"kCmkOe\"><img alt=\"\" class=\"DS1iW\" src=\"https://encrypted-tbn0.gstatic.com/images?q=tbn:ANd9GcTyDECifPErek1mCVySYBoYNGjcta4G5CLMlVF55v4GXaOnmw0TafKq3-kL8k4&amp;s\"/></div></a></td></tr><tr><td><a href=\"/url?q=https://en.wikipedia.org/wiki/Warren_Buffett&amp;sa=U&amp;ved=2ahUKEwi99qXHyb2JAxUxRmwGHfANArcQr4kDegQIBhAC&amp;usg=AOvVaw09I0chWI7s82K2CLEthyeZ\"><div class=\"AlD19d\"> <span class=\"qXLe6d x3G5ab\"> <span class=\"fYyStc\">Warren Buffett - Wikipedia</span> </span> <span class=\"qXLe6d F9iS2e\"> <span class=\"fYyStc\">en.wikipedia.org</span> </span> </div></a></td></tr></table></div></div> </div> </div></td><td align=\"center\" class=\"e3goi\"><div class=\"jjVJ4e\"> <div> <div class=\"lIMUZd\"><div><table class=\"RntSmf\"><tr><td><a href=\"/url?q=https://www.gatesfoundation.org/about/leadership/warren-buffett&amp;sa=U&amp;ved=2ahUKEwi99qXHyb2JAxUxRmwGHfANArcQqoUBegQIExAB&amp;usg=AOvVaw2pbvYTqd-myoWTsrBA--Sh\"><div class=\"kCmkOe\"><img alt=\"\" class=\"DS1iW\" src=\"https://encrypted-tbn0.gstatic.com/images?q=tbn:ANd9GcRczTw15eTa_W8DmazmEAdsHIeyBmU3ojuKrR82zdGqwLBefseGXO4I_hPoYQ&amp;s\"/></div></a></td></tr><tr><td><a href=\"/url?q=https://www.gatesfoundation.org/about/leadership/warren-buffett&amp;sa=U&amp;ved=2ahUKEwi99qXHyb2JAxUxRmwGHfANArcQr4kDegQIExAC&amp;usg=AOvVaw129SvL10xzuZ-6oNCY_BCq\"><div class=\"AlD19d\"> <span class=\"qXLe6d x3G5ab\"> <span class=\"fYyStc\">Warren Buffett | Bill &amp;...</span> </span> <span class=\"qXLe6d F9iS2e\"> <span class=\"fYyStc\">www.gatesfoundation.org</span> </span> </div></a></td></tr></table></div></div> </div> </div></td><td align=\"center\" class=\"e3goi\"><div class=\"jjVJ4e\"> <div> <div class=\"lIMUZd\"><div><table class=\"RntSmf\"><tr><td><a href=\"/url?q=https://www.forbes.com/profile/warren-buffett/&amp;sa=U&amp;ved=2ahUKEwi99qXHyb2JAxUxRmwGHfANArcQqoUBegQIEhAB&amp;usg=AOvVaw2aA6y3jEZFI9Pe1pybeev5\"><div class=\"kCmkOe\"><img alt=\"\" class=\"DS1iW\" src=\"https://encrypted-tbn0.gstatic.com/images?q=tbn:ANd9GcQQpYxDE2Zje7Ds88q0Mx6XTm0jITle8ZaWdfbMyutL6wdRQmOng9s1qmdgC5s&amp;s\"/></div></a></td></tr><tr><td><a href=\"/url?q=https://www.forbes.com/profile/warren-buffett/&amp;sa=U&amp;ved=2ahUKEwi99qXHyb2JAxUxRmwGHfANArcQr4kDegQIEhAC&amp;usg=AOvVaw2Wo2MjkvfBz-rXak9cKjEO\"><div class=\"AlD19d\"> <span class=\"qXLe6d x3G5ab\"> <span class=\"fYyStc\">0x0.jpg?format=jpg&amp;crop=232...</span> </span> <span class=\"qXLe6d F9iS2e\"> <span class=\"fYyStc\">www.forbes.com</span> </span> </div></a></td></tr></table></div></div> </div> </div></td><td align=\"center\" class=\"e3goi\"><div class=\"jjVJ4e\"> <div> <div class=\"lIMUZd\"><div><table class=\"RntSmf\"><tr><td><a href=\"/url?q=https://m.economictimes.com/news/international/global-trends/warren-buffett-finally-reveals-his-2024-us-election-endorsement-and-it-is-a-surprise-for-many-kamala-harris-donald-trump/articleshow/114769421.cms&amp;sa=U&amp;ved=2ahUKEwi99qXHyb2JAxUxRmwGHfANArcQqoUBegQIEBAB&amp;usg=AOvVaw3zg-lLr_rFkZoKEOaU6R6T\"><div class=\"kCmkOe\"><img alt=\"\" class=\"DS1iW\" src=\"https://encrypted-tbn0.gstatic.com/images?q=tbn:ANd9GcTik0PdtU7Y2Z8bqH9HrIzX3DgXfv7XLrwCPu_MHPnf0YJzvaFQkFy57PIuDFI&amp;s\"/></div></a></td></tr><tr><td><a href=\"/url?q=https://m.economictimes.com/news/international/global-trends/warren-buffett-finally-reveals-his-2024-us-election-endorsement-and-it-is-a-surprise-for-many-kamala-harris-donald-trump/articleshow/114769421.cms&amp;sa=U&amp;ved=2ahUKEwi99qXHyb2JAxUxRmwGHfANArcQr4kDegQIEBAC&amp;usg=AOvVaw0e4flSB_co-anhgcH9DHkN\"><div class=\"AlD19d\"> <span class=\"qXLe6d x3G5ab\"> <span class=\"fYyStc\">Warren Buffett finally...</span> </span> <span class=\"qXLe6d F9iS2e\"> <span class=\"fYyStc\">m.economictimes.com</span> </span> </div></a></td></tr></table></div></div> </div> </div></td></tr><tr><td align=\"center\" class=\"e3goi\"><div class=\"jjVJ4e\"> <div> <div class=\"lIMUZd\"><div><table class=\"RntSmf\"><tr><td><a href=\"/url?q=https://givingpledge.org/pledger%3FpledgerId%3D177&amp;sa=U&amp;ved=2ahUKEwi99qXHyb2JAxUxRmwGHfANArcQqoUBegQIERAB&amp;usg=AOvVaw25f75lVarm602QjIlqh0q-\"><div class=\"kCmkOe\"><img alt=\"\" class=\"DS1iW\" src=\"https://encrypted-tbn0.gstatic.com/images?q=tbn:ANd9GcQiYDqaNaAiO7qqkzWsBJgdqpFdZCg_MMS_nSI5cWgt2Ni9LYfmvCPLxi5cSc0&amp;s\"/></div></a></td></tr><tr><td><a href=\"/url?q=https://givingpledge.org/pledger%3FpledgerId%3D177&amp;sa=U&amp;ved=2ahUKEwi99qXHyb2JAxUxRmwGHfANArcQr4kDegQIERAC&amp;usg=AOvVaw0LBRiE8JCaiuBHbKUFnwfZ\"><div class=\"AlD19d\"> <span class=\"qXLe6d x3G5ab\"> <span class=\"fYyStc\">Warren Buffett - The Giving...</span> </span> <span class=\"qXLe6d F9iS2e\"> <span class=\"fYyStc\">givingpledge.org</span> </span> </div></a></td></tr></table></div></div> </div> </div></td><td align=\"center\" class=\"e3goi\"><div class=\"jjVJ4e\"> <div> <div class=\"lIMUZd\"><div><table class=\"RntSmf\"><tr><td><a href=\"/url?q=https://m.economictimes.com/news/international/us/who-is-warren-buffett-going-to-vote-for-in-u-s-elections-he-has-picked-a-side-heres-all-you-need-to-know/articleshow/114559114.cms&amp;sa=U&amp;ved=2ahUKEwi99qXHyb2JAxUxRmwGHfANArcQqoUBegQIDhAB&amp;usg=AOvVaw2yIlxw0JKcRxVZnrzyNSVj\"><div class=\"kCmkOe\"><img alt=\"\" class=\"DS1iW\" src=\"https://encrypted-tbn0.gstatic.com/images?q=tbn:ANd9GcSbQn3Wao9W3yK3BFpglnJ9NpX-hnLvNhxn22vulL_MiX7EUViQv2wjDICR7GI&amp;s\"/></div></a></td></tr><tr><td><a href=\"/url?q=https://m.economictimes.com/news/international/us/who-is-warren-buffett-going-to-vote-for-in-u-s-elections-he-has-picked-a-side-heres-all-you-need-to-know/articleshow/114559114.cms&amp;sa=U&amp;ved=2ahUKEwi99qXHyb2JAxUxRmwGHfANArcQr4kDegQIDhAC&amp;usg=AOvVaw3OcrzuoBMzhOIPzxKBC22i\"><div class=\"AlD19d\"> <span class=\"qXLe6d x3G5ab\"> <span class=\"fYyStc\">2024 presidential election:...</span> </span> <span class=\"qXLe6d F9iS2e\"> <span class=\"fYyStc\">m.economictimes.com</span> </span> </div></a></td></tr></table></div></div> </div> </div></td><td align=\"center\" class=\"e3goi\"><div class=\"jjVJ4e\"> <div> <div class=\"lIMUZd\"><div><table class=\"RntSmf\"><tr><td><a href=\"/url?q=https://www.cnbc.com/2020/08/19/how-warren-buffett-spends-his-billions.html&amp;sa=U&amp;ved=2ahUKEwi99qXHyb2JAxUxRmwGHfANArcQqoUBegQIDRAB&amp;usg=AOvVaw0QYiGhQMfYBcqpm5CNYarp\"><div class=\"kCmkOe\"><img alt=\"\" class=\"DS1iW\" src=\"https://encrypted-tbn0.gstatic.com/images?q=tbn:ANd9GcRGD7ffHbdQQsxILJrZO-ImN9BEISDV4ysR2C9JkTDAWgSlsvh8R74VwZvnDA&amp;s\"/></div></a></td></tr><tr><td><a href=\"/url?q=https://www.cnbc.com/2020/08/19/how-warren-buffett-spends-his-billions.html&amp;sa=U&amp;ved=2ahUKEwi99qXHyb2JAxUxRmwGHfANArcQr4kDegQIDRAC&amp;usg=AOvVaw2q2n-0I37KvWuQ5JYnCC5M\"><div class=\"AlD19d\"> <span class=\"qXLe6d x3G5ab\"> <span class=\"fYyStc\">Warren Buffett's now worth...</span> </span> <span class=\"qXLe6d F9iS2e\"> <span class=\"fYyStc\">www.cnbc.com</span> </span> </div></a></td></tr></table></div></div> </div> </div></td><td align=\"center\" class=\"e3goi\"><div class=\"jjVJ4e\"> <div> <div class=\"lIMUZd\"><div><table class=\"RntSmf\"><tr><td><a href=\"/url?q=https://www.iheart.com/content/2024-10-24-warren-buffett-makes-surprising-decision-on-2024-presidential-election/&amp;sa=U&amp;ved=2ahUKEwi99qXHyb2JAxUxRmwGHfANArcQqoUBegQICxAB&amp;usg=AOvVaw2Y_nqc56QLBxFsL0GIbu_f\"><div class=\"kCmkOe\"><img alt=\"\" class=\"DS1iW\" src=\"https://encrypted-tbn0.gstatic.com/images?q=tbn:ANd9GcR_BuX34KWMcukyKyZ6mu3LeAJ2USZcwOJWNgSklL7FlNbhB4peILu3Kb6C-CE&amp;s\"/></div></a></td></tr><tr><td><a href=\"/url?q=https://www.iheart.com/content/2024-10-24-warren-buffett-makes-surprising-decision-on-2024-presidential-election/&amp;sa=U&amp;ved=2ahUKEwi99qXHyb2JAxUxRmwGHfANArcQr4kDegQICxAC&amp;usg=AOvVaw2hRh7GTfV15Q434j2Ou-84\"><div class=\"AlD19d\"> <span class=\"qXLe6d x3G5ab\"> <span class=\"fYyStc\">Warren Buffett Makes...</span> </span> <span class=\"qXLe6d F9iS2e\"> <span class=\"fYyStc\">www.iheart.com</span> </span> </div></a></td></tr></table></div></div> </div> </div></td></tr><tr><td align=\"center\" class=\"e3goi\"><div class=\"jjVJ4e\"> <div> <div class=\"lIMUZd\"><div><table class=\"RntSmf\"><tr><td><a href=\"/url?q=https://www.inc.com/marcel-schwantes/the-one-life-choice-warren-buffett-believes-separates-winners-from-losers/90982415&amp;sa=U&amp;ved=2ahUKEwi99qXHyb2JAxUxRmwGHfANArcQqoUBegQIDxAB&amp;usg=AOvVaw3YlAQAfFnOyYqInmEZ4ffo\"><div class=\"kCmkOe\"><img alt=\"\" class=\"DS1iW\" src=\"https://encrypted-tbn0.gstatic.com/images?q=tbn:ANd9GcSnabz50D7X-HfTvIF8W5KqqWYPdJvxNc7ZkKi6MjhntBke8c4rlnoSsLgRww&amp;s\"/></div></a></td></tr><tr><td><a href=\"/url?q=https://www.inc.com/marcel-schwantes/the-one-life-choice-warren-buffett-believes-separates-winners-from-losers/90982415&amp;sa=U&amp;ved=2ahUKEwi99qXHyb2JAxUxRmwGHfANArcQr4kDegQIDxAC&amp;usg=AOvVaw3B3aLHii7r0HzBK_27mDvx\"><div class=\"AlD19d\"> <span class=\"qXLe6d x3G5ab\"> <span class=\"fYyStc\">The 1 Life Choice Warren...</span> </span> <span class=\"qXLe6d F9iS2e\"> <span class=\"fYyStc\">www.inc.com</span> </span> </div></a></td></tr></table></div></div> </div> </div></td><td align=\"center\" class=\"e3goi\"><div class=\"jjVJ4e\"> <div> <div class=\"lIMUZd\"><div><table class=\"RntSmf\"><tr><td><a href=\"/url?q=https://www.investopedia.com/financial-edge/0210/rules-that-warren-buffett-lives-by.aspx&amp;sa=U&amp;ved=2ahUKEwi99qXHyb2JAxUxRmwGHfANArcQqoUBegQIDBAB&amp;usg=AOvVaw1j0ueB6TROuZlOQCgr74M3\"><div class=\"kCmkOe\"><img alt=\"\" class=\"DS1iW\" src=\"https://encrypted-tbn0.gstatic.com/images?q=tbn:ANd9GcStweJm3qlKM9u3bmP6jtffAqszgu8O8uFU2ukC8JZwGmqa-SQgiBw4L9mmAw8&amp;s\"/></div></a></td></tr><tr><td><a href=\"/url?q=https://www.investopedia.com/financial-edge/0210/rules-that-warren-buffett-lives-by.aspx&amp;sa=U&amp;ved=2ahUKEwi99qXHyb2JAxUxRmwGHfANArcQr4kDegQIDBAC&amp;usg=AOvVaw2hrEjOd9R8wjAbfVXGNOn6\"><div class=\"AlD19d\"> <span class=\"qXLe6d x3G5ab\"> <span class=\"fYyStc\">Investing Rules the...</span> </span> <span class=\"qXLe6d F9iS2e\"> <span class=\"fYyStc\">www.investopedia.com</span> </span> </div></a></td></tr></table></div></div> </div> </div></td><td align=\"center\" class=\"e3goi\"><div class=\"jjVJ4e\"> <div> <div class=\"lIMUZd\"><div><table class=\"RntSmf\"><tr><td><a href=\"/url?q=https://www.investors.com/news/warren-buffett-stocks-davita-kraft-heinz-fall-apple-earnings-due/&amp;sa=U&amp;ved=2ahUKEwi99qXHyb2JAxUxRmwGHfANArcQqoUBegQICRAB&amp;usg=AOvVaw1K1w1nynMck332Dwct_Cg3\"><div class=\"kCmkOe\"><img alt=\"\" class=\"DS1iW\" src=\"https://encrypted-tbn0.gstatic.com/images?q=tbn:ANd9GcSKKnEsPxG0DWmPKWZdYfosIrYd0o7WPGujqJV69j9s4GzQd5BN_qO7EUaTTQ&amp;s\"/></div></a></td></tr><tr><td><a href=\"/url?q=https://www.investors.com/news/warren-buffett-stocks-davita-kraft-heinz-fall-apple-earnings-due/&amp;sa=U&amp;ved=2ahUKEwi99qXHyb2JAxUxRmwGHfANArcQr4kDegQICRAC&amp;usg=AOvVaw3ddg5Xj5GmF4VNGYY8Nok2\"><div class=\"AlD19d\"> <span class=\"qXLe6d x3G5ab\"> <span class=\"fYyStc\">Top Warren Buffett Stocks...</span> </span> <span class=\"qXLe6d F9iS2e\"> <span class=\"fYyStc\">www.investors.com</span> </span> </div></a></td></tr></table></div></div> </div> </div></td><td align=\"center\" class=\"e3goi\"><div class=\"jjVJ4e\"> <div> <div class=\"lIMUZd\"><div><table class=\"RntSmf\"><tr><td><a href=\"/url?q=https://www.cnbc.com/2019/02/13/billionaire-warren-buffett-says-this-is-the-only-measure-of-success-that-matters.html&amp;sa=U&amp;ved=2ahUKEwi99qXHyb2JAxUxRmwGHfANArcQqoUBegQIChAB&amp;usg=AOvVaw1WTINNYDQ2hlInsE7uFiup\"><div class=\"kCmkOe\"><img alt=\"\" class=\"DS1iW\" src=\"https://encrypted-tbn0.gstatic.com/images?q=tbn:ANd9GcTnC2_BXlVu4S4OpD6D-DdpTBvtD52dDivl9y3L3wbAR6qUW1loTZ_l875UWQ&amp;s\"/></div></a></td></tr><tr><td><a href=\"/url?q=https://www.cnbc.com/2019/02/13/billionaire-warren-buffett-says-this-is-the-only-measure-of-success-that-matters.html&amp;sa=U&amp;ved=2ahUKEwi99qXHyb2JAxUxRmwGHfANArcQr4kDegQIChAC&amp;usg=AOvVaw1cUJMX6thPYa-_4V2I_rzN\"><div class=\"AlD19d\"> <span class=\"qXLe6d x3G5ab\"> <span class=\"fYyStc\">Warren Buffett: This is the...</span> </span> <span class=\"qXLe6d F9iS2e\"> <span class=\"fYyStc\">www.cnbc.com</span> </span> </div></a></td></tr></table></div></div> </div> </div></td></tr><tr><td align=\"center\" class=\"e3goi\"><div class=\"jjVJ4e\"> <div> <div class=\"lIMUZd\"><div><table class=\"RntSmf\"><tr><td><a href=\"/url?q=https://finance.yahoo.com/news/no-one-u-pay-dime-155926180.html&amp;sa=U&amp;ved=2ahUKEwi99qXHyb2JAxUxRmwGHfANArcQqoUBegQIAxAB&amp;usg=AOvVaw1AG1_fKI-iY-M0RcxYsJjH\"><div class=\"kCmkOe\"><img alt=\"\" class=\"DS1iW\" src=\"https://encrypted-tbn0.gstatic.com/images?q=tbn:ANd9GcQvLqt7jPzJxdhbc07Ms5VzKKscxjlk5cqatNNlthKwnOjGhWIY1cws9lyufQ&amp;s\"/></div></a></td></tr><tr><td><a href=\"/url?q=https://finance.yahoo.com/news/no-one-u-pay-dime-155926180.html&amp;sa=U&amp;ved=2ahUKEwi99qXHyb2JAxUxRmwGHfANArcQr4kDegQIAxAC&amp;usg=AOvVaw0KGwZrQVszwp4XVAfGvOBh\"><div class=\"AlD19d\"> <span class=\"qXLe6d x3G5ab\"> <span class=\"fYyStc\">No One In The U.S. Would...</span> </span> <span class=\"qXLe6d F9iS2e\"> <span class=\"fYyStc\">finance.yahoo.com</span> </span> </div></a></td></tr></table></div></div> </div> </div></td><td align=\"center\" class=\"e3goi\"><div class=\"jjVJ4e\"> <div> <div class=\"lIMUZd\"><div><table class=\"RntSmf\"><tr><td><a href=\"/url?q=https://astrumpeople.com/warren-buffett-biography/&amp;sa=U&amp;ved=2ahUKEwi99qXHyb2JAxUxRmwGHfANArcQqoUBegQICBAB&amp;usg=AOvVaw1aiVyntWwp4kOyIlalvwno\"><div class=\"kCmkOe\"><img alt=\"\" class=\"DS1iW\" src=\"https://encrypted-tbn0.gstatic.com/images?q=tbn:ANd9GcQ-UxxgT6xEJwPeixXBm44G2nb7_DgcLJR2EiaeuHSrdYcFu4ToadJjyW1kvsE&amp;s\"/></div></a></td></tr><tr><td><a href=\"/url?q=https://astrumpeople.com/warren-buffett-biography/&amp;sa=U&amp;ved=2ahUKEwi99qXHyb2JAxUxRmwGHfANArcQr4kDegQICBAC&amp;usg=AOvVaw3q0jFG-VSNbiVKj4teM4HF\"><div class=\"AlD19d\"> <span class=\"qXLe6d x3G5ab\"> <span class=\"fYyStc\">Warren Buffett: Biography,...</span> </span> <span class=\"qXLe6d F9iS2e\"> <span class=\"fYyStc\">astrumpeople.com</span> </span> </div></a></td></tr></table></div></div> </div> </div></td><td align=\"center\" class=\"e3goi\"><div class=\"jjVJ4e\"> <div> <div class=\"lIMUZd\"><div><table class=\"RntSmf\"><tr><td><a href=\"/url?q=https://www.independent.co.uk/news/world/americas/us-politics/warren-buffett-us-election-2024-trump-harris-b2637259.html&amp;sa=U&amp;ved=2ahUKEwi99qXHyb2JAxUxRmwGHfANArcQqoUBegQIBBAB&amp;usg=AOvVaw2nzerSvmNXQMk91rmzVot7\"><div class=\"kCmkOe\"><img alt=\"\" class=\"DS1iW\" src=\"https://encrypted-tbn0.gstatic.com/images?q=tbn:ANd9GcR29AaY_YlZjQjDMPvQYwMpD4lVC58LuIHJqO0bYFN8QPnBnRsEuzBwZknBRg&amp;s\"/></div></a></td></tr><tr><td><a href=\"/url?q=https://www.independent.co.uk/news/world/americas/us-politics/warren-buffett-us-election-2024-trump-harris-b2637259.html&amp;sa=U&amp;ved=2ahUKEwi99qXHyb2JAxUxRmwGHfANArcQr4kDegQIBBAC&amp;usg=AOvVaw3fHLUAucNfB-Ft5zSnH2B2\"><div class=\"AlD19d\"> <span class=\"qXLe6d x3G5ab\"> <span class=\"fYyStc\">Warren Buffett finally...</span> </span> <span class=\"qXLe6d F9iS2e\"> <span class=\"fYyStc\">www.independent.co.uk</span> </span> </div></a></td></tr></table></div></div> </div> </div></td><td align=\"center\" class=\"e3goi\"><div class=\"jjVJ4e\"> <div> <div class=\"lIMUZd\"><div><table class=\"RntSmf\"><tr><td><a href=\"/url?q=https://simple.wikipedia.org/wiki/Warren_Buffett&amp;sa=U&amp;ved=2ahUKEwi99qXHyb2JAxUxRmwGHfANArcQqoUBegQIBxAB&amp;usg=AOvVaw2eUUAPdJELF1zA1CWnYnMc\"><div class=\"kCmkOe\"><img alt=\"\" class=\"DS1iW\" src=\"https://encrypted-tbn0.gstatic.com/images?q=tbn:ANd9GcTjBl1Pk_rePzPGN0WrvS95qMn_o_7RCF2JarAL1pW0GtfEGBCAaAMy0orojw&amp;s\"/></div></a></td></tr><tr><td><a href=\"/url?q=https://simple.wikipedia.org/wiki/Warren_Buffett&amp;sa=U&amp;ved=2ahUKEwi99qXHyb2JAxUxRmwGHfANArcQr4kDegQIBxAC&amp;usg=AOvVaw2AuQy7Ov-cuwpzFlTiy9Nb\"><div class=\"AlD19d\"> <span class=\"qXLe6d x3G5ab\"> <span class=\"fYyStc\">Warren Buffett - Simple...</span> </span> <span class=\"qXLe6d F9iS2e\"> <span class=\"fYyStc\">simple.wikipedia.org</span> </span> </div></a></td></tr></table></div></div> </div> </div></td></tr><tr><td align=\"center\" class=\"e3goi\"><div class=\"jjVJ4e\"> <div> <div class=\"lIMUZd\"><div><table class=\"RntSmf\"><tr><td><a href=\"/url?q=https://www.reuters.com/world/us/warren-buffett-says-he-wont-endorse-investment-products-or-candidates-2024-10-23/&amp;sa=U&amp;ved=2ahUKEwi99qXHyb2JAxUxRmwGHfANArcQqoUBegQIARAB&amp;usg=AOvVaw28cwxRtZ2BJUcZP-ogkca2\"><div class=\"kCmkOe\"><img alt=\"\" class=\"DS1iW\" src=\"https://encrypted-tbn0.gstatic.com/images?q=tbn:ANd9GcSf4H69PH931GnFqAEDU8dNgY8VADXmZllVXish056PixlxaO0RMD8NjVzj6w&amp;s\"/></div></a></td></tr><tr><td><a href=\"/url?q=https://www.reuters.com/world/us/warren-buffett-says-he-wont-endorse-investment-products-or-candidates-2024-10-23/&amp;sa=U&amp;ved=2ahUKEwi99qXHyb2JAxUxRmwGHfANArcQr4kDegQIARAC&amp;usg=AOvVaw1btuK4eSbGyJ3Rs6SDYFBH\"><div class=\"AlD19d\"> <span class=\"qXLe6d x3G5ab\"> <span class=\"fYyStc\">Warren Buffett says he...</span> </span> <span class=\"qXLe6d F9iS2e\"> <span class=\"fYyStc\">www.reuters.com</span> </span> </div></a></td></tr></table></div></div> </div> </div></td><td align=\"center\" class=\"e3goi\"><div class=\"jjVJ4e\"> <div> <div class=\"lIMUZd\"><div><table class=\"RntSmf\"><tr><td><a href=\"/url?q=https://www.investopedia.com/articles/01/071801.asp&amp;sa=U&amp;ved=2ahUKEwi99qXHyb2JAxUxRmwGHfANArcQqoUBegQIAhAB&amp;usg=AOvVaw0oGcZJaLHsF4Zp7zOs43mP\"><div class=\"kCmkOe\"><img alt=\"\" class=\"DS1iW\" src=\"https://encrypted-tbn0.gstatic.com/images?q=tbn:ANd9GcSGYpXxs-wHW6xDOPXOuTgF_k44slrTIIoAdzaY8fi_SfMZATEubfZC8mcSzto&amp;s\"/></div></a></td></tr><tr><td><a href=\"/url?q=https://www.investopedia.com/articles/01/071801.asp&amp;sa=U&amp;ved=2ahUKEwi99qXHyb2JAxUxRmwGHfANArcQr4kDegQIAhAC&amp;usg=AOvVaw2wPw373_jplnNAEveTDva0\"><div class=\"AlD19d\"> <span class=\"qXLe6d x3G5ab\"> <span class=\"fYyStc\">Warren Buffett's Investment...</span> </span> <span class=\"qXLe6d F9iS2e\"> <span class=\"fYyStc\">www.investopedia.com</span> </span> </div></a></td></tr></table></div></div> </div> </div></td><td align=\"center\" class=\"e3goi\"><div class=\"jjVJ4e\"> <div> <div class=\"lIMUZd\"><div><table class=\"RntSmf\"><tr><td><a href=\"/url?q=https://duomoinitiative.medium.com/the-story-of-warren-buffett-legends-of-investing-sere-239d83f3ceed&amp;sa=U&amp;ved=2ahUKEwi99qXHyb2JAxUxRmwGHfANArcQqoUBegQIABAB&amp;usg=AOvVaw3oiCCHHjEtiw0R8eGQcMn7\"><div class=\"kCmkOe\"><img alt=\"\" class=\"DS1iW\" src=\"https://encrypted-tbn0.gstatic.com/images?q=tbn:ANd9GcQPzyn0miosRnsDr19-bd7S1AXoGVP4GPAQINZ71y6HwwbYGGbqFl7PudPc5co&amp;s\"/></div></a></td></tr><tr><td><a href=\"/url?q=https://duomoinitiative.medium.com/the-story-of-warren-buffett-legends-of-investing-sere-239d83f3ceed&amp;sa=U&amp;ved=2ahUKEwi99qXHyb2JAxUxRmwGHfANArcQr4kDegQIABAC&amp;usg=AOvVaw21taz-AiP_bOywLJ4CKwfo\"><div class=\"AlD19d\"> <span class=\"qXLe6d x3G5ab\"> <span class=\"fYyStc\">The Story of Warren Buffett...</span> </span> <span class=\"qXLe6d F9iS2e\"> <span class=\"fYyStc\">duomoinitiative.medium.com</span> </span> </div></a></td></tr></table></div></div> </div> </div></td><td align=\"center\" class=\"e3goi\"><div class=\"jjVJ4e\"> <div> <div class=\"lIMUZd\"><div><table class=\"RntSmf\"><tr><td><a href=\"/url?q=https://www.sarwa.co/blog/warren-buffett-quotes&amp;sa=U&amp;ved=2ahUKEwi99qXHyb2JAxUxRmwGHfANArcQqoUBegQIBRAB&amp;usg=AOvVaw1QbVvW5wPyOH40GSGC89l9\"><div class=\"kCmkOe\"><img alt=\"\" class=\"DS1iW\" src=\"https://encrypted-tbn0.gstatic.com/images?q=tbn:ANd9GcT0w_oErK28vX3g5SYB27pBrjHbOS5N2sYOkhTG7gpPby5cpMyOgJXYQjxzvkI&amp;s\"/></div></a></td></tr><tr><td><a href=\"/url?q=https://www.sarwa.co/blog/warren-buffett-quotes&amp;sa=U&amp;ved=2ahUKEwi99qXHyb2JAxUxRmwGHfANArcQr4kDegQIBRAC&amp;usg=AOvVaw22zv2hKLQa2-vPoupzzDco\"><div class=\"AlD19d\"> <span class=\"qXLe6d x3G5ab\"> <span class=\"fYyStc\">90 Warren Buffett Quotes on...</span> </span> <span class=\"qXLe6d F9iS2e\"> <span class=\"fYyStc\">www.sarwa.co</span> </span> </div></a></td></tr></table></div></div> </div> </div></td></tr></table></div><table class=\"uZgmoc\"><tbody><td><a class=\"frGj1b\" href=\"/search?q=warren+buffett&amp;sca_esv=808c4f249ba0e78b&amp;biw=1366&amp;bih=599&amp;ie=UTF-8&amp;tbm=isch&amp;ei=ABEmZ732DLGMseMP8JuIuAs&amp;start=20&amp;sa=N\">Next &gt;</a></td></tbody></table><br/><div class=\"TuS8Ad\" data-ved=\"0ahUKEwi99qXHyb2JAxUxRmwGHfANArcQpyoIRQ\"><style>.VYM29{font-weight:bold}</style><div align=\"center\" class=\"HddGcc\"><span class=\"VYM29\">BTM Layout, Bengaluru, Karnataka</span><span> - </span><span>From your IP address</span><span> - </span><a href=\"/url?q=https://support.google.com/websearch%3Fp%3Dws_settings_location%26hl%3Den-IN&amp;opi=89978449&amp;sa=U&amp;ved=0ahUKEwi99qXHyb2JAxUxRmwGHfANArcQty4IRg&amp;usg=AOvVaw12Y0L3rEzy2Arcrdlf5SIY\">Learn more</a></div><div align=\"center\"><a class=\"rEM8G\" href=\"/url?q=https://accounts.google.com/ServiceLogin%3Fcontinue%3Dhttps://www.google.com/search%253Fsca_esv%253D808c4f249ba0e78b%2526sxsrf%253DADLYWIJG6V_8poOS5-PU_Thhc6UKlhzvnw:1730547628973%2526q%253Dwarren%252Bbuffett%2526fbs%253DAEQNm0DPvcmG_nCbmwtBO9j6YBzM68ZanC7g01Skprhw5JoufeOS3s50R2UVAdFKPiGec2s70dsafSzt3Srk8zYXgpdFG5FfofmzpwxUIJ5f2iIJrHTRoaSC7aulU2uwrHgJk4UGo5WLBV4m1G0HdtrY_kzqlNtPVe2l0044_OEmMZwujHb4tcBPX0LWuL1RlDJAQhZEFDHvVLHiGyUetf8GOS69ajMlXQ%2526sa%253DX%2526ved%253D2ahUKEwi3lMSlyL2JAxWEoGMGHaTqItIQtKgLegQIFRAB%2526biw%253D1366%2526bih%253D599%2526dpr%253D1%2526tbm%253Disch%26hl%3Den&amp;opi=89978449&amp;sa=U&amp;ved=0ahUKEwi99qXHyb2JAxUxRmwGHfANArcQxs8CCEc&amp;usg=AOvVaw2O-2ifCIXi-lyBMNHM6sZq\">Sign in</a></div><div><table class=\"bookcf\"><tbody class=\"InWNIe\"><tr><td><a class=\"rEM8G\" href=\"https://www.google.com/preferences?hl=en&amp;sa=X&amp;ved=0ahUKEwi99qXHyb2JAxUxRmwGHfANArcQv5YECEg\">Settings</a></td><td><a class=\"rEM8G\" href=\"https://www.google.com/intl/en_in/policies/privacy/\">Privacy</a></td><td><a class=\"rEM8G\" href=\"https://www.google.com/intl/en_in/policies/terms/\">Terms</a></td></tr></tbody></table></div></div><div> </div></body></html>"
      ]
     },
     "execution_count": 62,
     "metadata": {},
     "output_type": "execute_result"
    }
   ],
   "source": [
    "soup"
   ]
  },
  {
   "cell_type": "code",
   "execution_count": null,
   "metadata": {},
   "outputs": [],
   "source": [
    "# If u want to get or collect all the images then type the following code\n",
    "# Then once you click the link you will get same image"
   ]
  },
  {
   "cell_type": "code",
   "execution_count": 63,
   "metadata": {},
   "outputs": [
    {
     "data": {
      "text/plain": [
       "[<img alt=\"Google\" class=\"kgJEQe\" src=\"/images/branding/searchlogo/1x/googlelogo_desk_heirloom_color_150x55dp.gif\"/>,\n",
       " <img alt=\"\" class=\"DS1iW\" src=\"https://encrypted-tbn0.gstatic.com/images?q=tbn:ANd9GcTyDECifPErek1mCVySYBoYNGjcta4G5CLMlVF55v4GXaOnmw0TafKq3-kL8k4&amp;s\"/>,\n",
       " <img alt=\"\" class=\"DS1iW\" src=\"https://encrypted-tbn0.gstatic.com/images?q=tbn:ANd9GcRczTw15eTa_W8DmazmEAdsHIeyBmU3ojuKrR82zdGqwLBefseGXO4I_hPoYQ&amp;s\"/>,\n",
       " <img alt=\"\" class=\"DS1iW\" src=\"https://encrypted-tbn0.gstatic.com/images?q=tbn:ANd9GcQQpYxDE2Zje7Ds88q0Mx6XTm0jITle8ZaWdfbMyutL6wdRQmOng9s1qmdgC5s&amp;s\"/>,\n",
       " <img alt=\"\" class=\"DS1iW\" src=\"https://encrypted-tbn0.gstatic.com/images?q=tbn:ANd9GcTik0PdtU7Y2Z8bqH9HrIzX3DgXfv7XLrwCPu_MHPnf0YJzvaFQkFy57PIuDFI&amp;s\"/>,\n",
       " <img alt=\"\" class=\"DS1iW\" src=\"https://encrypted-tbn0.gstatic.com/images?q=tbn:ANd9GcQiYDqaNaAiO7qqkzWsBJgdqpFdZCg_MMS_nSI5cWgt2Ni9LYfmvCPLxi5cSc0&amp;s\"/>,\n",
       " <img alt=\"\" class=\"DS1iW\" src=\"https://encrypted-tbn0.gstatic.com/images?q=tbn:ANd9GcSbQn3Wao9W3yK3BFpglnJ9NpX-hnLvNhxn22vulL_MiX7EUViQv2wjDICR7GI&amp;s\"/>,\n",
       " <img alt=\"\" class=\"DS1iW\" src=\"https://encrypted-tbn0.gstatic.com/images?q=tbn:ANd9GcRGD7ffHbdQQsxILJrZO-ImN9BEISDV4ysR2C9JkTDAWgSlsvh8R74VwZvnDA&amp;s\"/>,\n",
       " <img alt=\"\" class=\"DS1iW\" src=\"https://encrypted-tbn0.gstatic.com/images?q=tbn:ANd9GcR_BuX34KWMcukyKyZ6mu3LeAJ2USZcwOJWNgSklL7FlNbhB4peILu3Kb6C-CE&amp;s\"/>,\n",
       " <img alt=\"\" class=\"DS1iW\" src=\"https://encrypted-tbn0.gstatic.com/images?q=tbn:ANd9GcSnabz50D7X-HfTvIF8W5KqqWYPdJvxNc7ZkKi6MjhntBke8c4rlnoSsLgRww&amp;s\"/>,\n",
       " <img alt=\"\" class=\"DS1iW\" src=\"https://encrypted-tbn0.gstatic.com/images?q=tbn:ANd9GcStweJm3qlKM9u3bmP6jtffAqszgu8O8uFU2ukC8JZwGmqa-SQgiBw4L9mmAw8&amp;s\"/>,\n",
       " <img alt=\"\" class=\"DS1iW\" src=\"https://encrypted-tbn0.gstatic.com/images?q=tbn:ANd9GcSKKnEsPxG0DWmPKWZdYfosIrYd0o7WPGujqJV69j9s4GzQd5BN_qO7EUaTTQ&amp;s\"/>,\n",
       " <img alt=\"\" class=\"DS1iW\" src=\"https://encrypted-tbn0.gstatic.com/images?q=tbn:ANd9GcTnC2_BXlVu4S4OpD6D-DdpTBvtD52dDivl9y3L3wbAR6qUW1loTZ_l875UWQ&amp;s\"/>,\n",
       " <img alt=\"\" class=\"DS1iW\" src=\"https://encrypted-tbn0.gstatic.com/images?q=tbn:ANd9GcQvLqt7jPzJxdhbc07Ms5VzKKscxjlk5cqatNNlthKwnOjGhWIY1cws9lyufQ&amp;s\"/>,\n",
       " <img alt=\"\" class=\"DS1iW\" src=\"https://encrypted-tbn0.gstatic.com/images?q=tbn:ANd9GcQ-UxxgT6xEJwPeixXBm44G2nb7_DgcLJR2EiaeuHSrdYcFu4ToadJjyW1kvsE&amp;s\"/>,\n",
       " <img alt=\"\" class=\"DS1iW\" src=\"https://encrypted-tbn0.gstatic.com/images?q=tbn:ANd9GcR29AaY_YlZjQjDMPvQYwMpD4lVC58LuIHJqO0bYFN8QPnBnRsEuzBwZknBRg&amp;s\"/>,\n",
       " <img alt=\"\" class=\"DS1iW\" src=\"https://encrypted-tbn0.gstatic.com/images?q=tbn:ANd9GcTjBl1Pk_rePzPGN0WrvS95qMn_o_7RCF2JarAL1pW0GtfEGBCAaAMy0orojw&amp;s\"/>,\n",
       " <img alt=\"\" class=\"DS1iW\" src=\"https://encrypted-tbn0.gstatic.com/images?q=tbn:ANd9GcSf4H69PH931GnFqAEDU8dNgY8VADXmZllVXish056PixlxaO0RMD8NjVzj6w&amp;s\"/>,\n",
       " <img alt=\"\" class=\"DS1iW\" src=\"https://encrypted-tbn0.gstatic.com/images?q=tbn:ANd9GcSGYpXxs-wHW6xDOPXOuTgF_k44slrTIIoAdzaY8fi_SfMZATEubfZC8mcSzto&amp;s\"/>,\n",
       " <img alt=\"\" class=\"DS1iW\" src=\"https://encrypted-tbn0.gstatic.com/images?q=tbn:ANd9GcQPzyn0miosRnsDr19-bd7S1AXoGVP4GPAQINZ71y6HwwbYGGbqFl7PudPc5co&amp;s\"/>,\n",
       " <img alt=\"\" class=\"DS1iW\" src=\"https://encrypted-tbn0.gstatic.com/images?q=tbn:ANd9GcT0w_oErK28vX3g5SYB27pBrjHbOS5N2sYOkhTG7gpPby5cpMyOgJXYQjxzvkI&amp;s\"/>]"
      ]
     },
     "execution_count": 63,
     "metadata": {},
     "output_type": "execute_result"
    }
   ],
   "source": [
    "soup.find_all(\"img\")"
   ]
  },
  {
   "cell_type": "code",
   "execution_count": 64,
   "metadata": {},
   "outputs": [],
   "source": [
    "# Now i will collect all my images in my variable \"image_tags\"\n",
    "image_tags=soup.find_all(\"img\")"
   ]
  },
  {
   "cell_type": "code",
   "execution_count": 65,
   "metadata": {},
   "outputs": [
    {
     "data": {
      "text/plain": [
       "[<img alt=\"Google\" class=\"kgJEQe\" src=\"/images/branding/searchlogo/1x/googlelogo_desk_heirloom_color_150x55dp.gif\"/>,\n",
       " <img alt=\"\" class=\"DS1iW\" src=\"https://encrypted-tbn0.gstatic.com/images?q=tbn:ANd9GcTyDECifPErek1mCVySYBoYNGjcta4G5CLMlVF55v4GXaOnmw0TafKq3-kL8k4&amp;s\"/>,\n",
       " <img alt=\"\" class=\"DS1iW\" src=\"https://encrypted-tbn0.gstatic.com/images?q=tbn:ANd9GcRczTw15eTa_W8DmazmEAdsHIeyBmU3ojuKrR82zdGqwLBefseGXO4I_hPoYQ&amp;s\"/>,\n",
       " <img alt=\"\" class=\"DS1iW\" src=\"https://encrypted-tbn0.gstatic.com/images?q=tbn:ANd9GcQQpYxDE2Zje7Ds88q0Mx6XTm0jITle8ZaWdfbMyutL6wdRQmOng9s1qmdgC5s&amp;s\"/>,\n",
       " <img alt=\"\" class=\"DS1iW\" src=\"https://encrypted-tbn0.gstatic.com/images?q=tbn:ANd9GcTik0PdtU7Y2Z8bqH9HrIzX3DgXfv7XLrwCPu_MHPnf0YJzvaFQkFy57PIuDFI&amp;s\"/>,\n",
       " <img alt=\"\" class=\"DS1iW\" src=\"https://encrypted-tbn0.gstatic.com/images?q=tbn:ANd9GcQiYDqaNaAiO7qqkzWsBJgdqpFdZCg_MMS_nSI5cWgt2Ni9LYfmvCPLxi5cSc0&amp;s\"/>,\n",
       " <img alt=\"\" class=\"DS1iW\" src=\"https://encrypted-tbn0.gstatic.com/images?q=tbn:ANd9GcSbQn3Wao9W3yK3BFpglnJ9NpX-hnLvNhxn22vulL_MiX7EUViQv2wjDICR7GI&amp;s\"/>,\n",
       " <img alt=\"\" class=\"DS1iW\" src=\"https://encrypted-tbn0.gstatic.com/images?q=tbn:ANd9GcRGD7ffHbdQQsxILJrZO-ImN9BEISDV4ysR2C9JkTDAWgSlsvh8R74VwZvnDA&amp;s\"/>,\n",
       " <img alt=\"\" class=\"DS1iW\" src=\"https://encrypted-tbn0.gstatic.com/images?q=tbn:ANd9GcR_BuX34KWMcukyKyZ6mu3LeAJ2USZcwOJWNgSklL7FlNbhB4peILu3Kb6C-CE&amp;s\"/>,\n",
       " <img alt=\"\" class=\"DS1iW\" src=\"https://encrypted-tbn0.gstatic.com/images?q=tbn:ANd9GcSnabz50D7X-HfTvIF8W5KqqWYPdJvxNc7ZkKi6MjhntBke8c4rlnoSsLgRww&amp;s\"/>,\n",
       " <img alt=\"\" class=\"DS1iW\" src=\"https://encrypted-tbn0.gstatic.com/images?q=tbn:ANd9GcStweJm3qlKM9u3bmP6jtffAqszgu8O8uFU2ukC8JZwGmqa-SQgiBw4L9mmAw8&amp;s\"/>,\n",
       " <img alt=\"\" class=\"DS1iW\" src=\"https://encrypted-tbn0.gstatic.com/images?q=tbn:ANd9GcSKKnEsPxG0DWmPKWZdYfosIrYd0o7WPGujqJV69j9s4GzQd5BN_qO7EUaTTQ&amp;s\"/>,\n",
       " <img alt=\"\" class=\"DS1iW\" src=\"https://encrypted-tbn0.gstatic.com/images?q=tbn:ANd9GcTnC2_BXlVu4S4OpD6D-DdpTBvtD52dDivl9y3L3wbAR6qUW1loTZ_l875UWQ&amp;s\"/>,\n",
       " <img alt=\"\" class=\"DS1iW\" src=\"https://encrypted-tbn0.gstatic.com/images?q=tbn:ANd9GcQvLqt7jPzJxdhbc07Ms5VzKKscxjlk5cqatNNlthKwnOjGhWIY1cws9lyufQ&amp;s\"/>,\n",
       " <img alt=\"\" class=\"DS1iW\" src=\"https://encrypted-tbn0.gstatic.com/images?q=tbn:ANd9GcQ-UxxgT6xEJwPeixXBm44G2nb7_DgcLJR2EiaeuHSrdYcFu4ToadJjyW1kvsE&amp;s\"/>,\n",
       " <img alt=\"\" class=\"DS1iW\" src=\"https://encrypted-tbn0.gstatic.com/images?q=tbn:ANd9GcR29AaY_YlZjQjDMPvQYwMpD4lVC58LuIHJqO0bYFN8QPnBnRsEuzBwZknBRg&amp;s\"/>,\n",
       " <img alt=\"\" class=\"DS1iW\" src=\"https://encrypted-tbn0.gstatic.com/images?q=tbn:ANd9GcTjBl1Pk_rePzPGN0WrvS95qMn_o_7RCF2JarAL1pW0GtfEGBCAaAMy0orojw&amp;s\"/>,\n",
       " <img alt=\"\" class=\"DS1iW\" src=\"https://encrypted-tbn0.gstatic.com/images?q=tbn:ANd9GcSf4H69PH931GnFqAEDU8dNgY8VADXmZllVXish056PixlxaO0RMD8NjVzj6w&amp;s\"/>,\n",
       " <img alt=\"\" class=\"DS1iW\" src=\"https://encrypted-tbn0.gstatic.com/images?q=tbn:ANd9GcSGYpXxs-wHW6xDOPXOuTgF_k44slrTIIoAdzaY8fi_SfMZATEubfZC8mcSzto&amp;s\"/>,\n",
       " <img alt=\"\" class=\"DS1iW\" src=\"https://encrypted-tbn0.gstatic.com/images?q=tbn:ANd9GcQPzyn0miosRnsDr19-bd7S1AXoGVP4GPAQINZ71y6HwwbYGGbqFl7PudPc5co&amp;s\"/>,\n",
       " <img alt=\"\" class=\"DS1iW\" src=\"https://encrypted-tbn0.gstatic.com/images?q=tbn:ANd9GcT0w_oErK28vX3g5SYB27pBrjHbOS5N2sYOkhTG7gpPby5cpMyOgJXYQjxzvkI&amp;s\"/>]"
      ]
     },
     "execution_count": 65,
     "metadata": {},
     "output_type": "execute_result"
    }
   ],
   "source": [
    "image_tags  # After running my variable i will get all my \"image_tags\" in the form of list\n",
    "# But first link is not clickable its an example\n",
    "# If u want to delete it then type the following code below cell"
   ]
  },
  {
   "cell_type": "code",
   "execution_count": 66,
   "metadata": {},
   "outputs": [],
   "source": [
    "# To delete descriptions \n",
    "del image_tags[0] # This is nothing but index within sqare braces, u can use clicing also"
   ]
  },
  {
   "cell_type": "code",
   "execution_count": 67,
   "metadata": {},
   "outputs": [
    {
     "data": {
      "text/plain": [
       "[<img alt=\"\" class=\"DS1iW\" src=\"https://encrypted-tbn0.gstatic.com/images?q=tbn:ANd9GcTyDECifPErek1mCVySYBoYNGjcta4G5CLMlVF55v4GXaOnmw0TafKq3-kL8k4&amp;s\"/>,\n",
       " <img alt=\"\" class=\"DS1iW\" src=\"https://encrypted-tbn0.gstatic.com/images?q=tbn:ANd9GcRczTw15eTa_W8DmazmEAdsHIeyBmU3ojuKrR82zdGqwLBefseGXO4I_hPoYQ&amp;s\"/>,\n",
       " <img alt=\"\" class=\"DS1iW\" src=\"https://encrypted-tbn0.gstatic.com/images?q=tbn:ANd9GcQQpYxDE2Zje7Ds88q0Mx6XTm0jITle8ZaWdfbMyutL6wdRQmOng9s1qmdgC5s&amp;s\"/>,\n",
       " <img alt=\"\" class=\"DS1iW\" src=\"https://encrypted-tbn0.gstatic.com/images?q=tbn:ANd9GcTik0PdtU7Y2Z8bqH9HrIzX3DgXfv7XLrwCPu_MHPnf0YJzvaFQkFy57PIuDFI&amp;s\"/>,\n",
       " <img alt=\"\" class=\"DS1iW\" src=\"https://encrypted-tbn0.gstatic.com/images?q=tbn:ANd9GcQiYDqaNaAiO7qqkzWsBJgdqpFdZCg_MMS_nSI5cWgt2Ni9LYfmvCPLxi5cSc0&amp;s\"/>,\n",
       " <img alt=\"\" class=\"DS1iW\" src=\"https://encrypted-tbn0.gstatic.com/images?q=tbn:ANd9GcSbQn3Wao9W3yK3BFpglnJ9NpX-hnLvNhxn22vulL_MiX7EUViQv2wjDICR7GI&amp;s\"/>,\n",
       " <img alt=\"\" class=\"DS1iW\" src=\"https://encrypted-tbn0.gstatic.com/images?q=tbn:ANd9GcRGD7ffHbdQQsxILJrZO-ImN9BEISDV4ysR2C9JkTDAWgSlsvh8R74VwZvnDA&amp;s\"/>,\n",
       " <img alt=\"\" class=\"DS1iW\" src=\"https://encrypted-tbn0.gstatic.com/images?q=tbn:ANd9GcR_BuX34KWMcukyKyZ6mu3LeAJ2USZcwOJWNgSklL7FlNbhB4peILu3Kb6C-CE&amp;s\"/>,\n",
       " <img alt=\"\" class=\"DS1iW\" src=\"https://encrypted-tbn0.gstatic.com/images?q=tbn:ANd9GcSnabz50D7X-HfTvIF8W5KqqWYPdJvxNc7ZkKi6MjhntBke8c4rlnoSsLgRww&amp;s\"/>,\n",
       " <img alt=\"\" class=\"DS1iW\" src=\"https://encrypted-tbn0.gstatic.com/images?q=tbn:ANd9GcStweJm3qlKM9u3bmP6jtffAqszgu8O8uFU2ukC8JZwGmqa-SQgiBw4L9mmAw8&amp;s\"/>,\n",
       " <img alt=\"\" class=\"DS1iW\" src=\"https://encrypted-tbn0.gstatic.com/images?q=tbn:ANd9GcSKKnEsPxG0DWmPKWZdYfosIrYd0o7WPGujqJV69j9s4GzQd5BN_qO7EUaTTQ&amp;s\"/>,\n",
       " <img alt=\"\" class=\"DS1iW\" src=\"https://encrypted-tbn0.gstatic.com/images?q=tbn:ANd9GcTnC2_BXlVu4S4OpD6D-DdpTBvtD52dDivl9y3L3wbAR6qUW1loTZ_l875UWQ&amp;s\"/>,\n",
       " <img alt=\"\" class=\"DS1iW\" src=\"https://encrypted-tbn0.gstatic.com/images?q=tbn:ANd9GcQvLqt7jPzJxdhbc07Ms5VzKKscxjlk5cqatNNlthKwnOjGhWIY1cws9lyufQ&amp;s\"/>,\n",
       " <img alt=\"\" class=\"DS1iW\" src=\"https://encrypted-tbn0.gstatic.com/images?q=tbn:ANd9GcQ-UxxgT6xEJwPeixXBm44G2nb7_DgcLJR2EiaeuHSrdYcFu4ToadJjyW1kvsE&amp;s\"/>,\n",
       " <img alt=\"\" class=\"DS1iW\" src=\"https://encrypted-tbn0.gstatic.com/images?q=tbn:ANd9GcR29AaY_YlZjQjDMPvQYwMpD4lVC58LuIHJqO0bYFN8QPnBnRsEuzBwZknBRg&amp;s\"/>,\n",
       " <img alt=\"\" class=\"DS1iW\" src=\"https://encrypted-tbn0.gstatic.com/images?q=tbn:ANd9GcTjBl1Pk_rePzPGN0WrvS95qMn_o_7RCF2JarAL1pW0GtfEGBCAaAMy0orojw&amp;s\"/>,\n",
       " <img alt=\"\" class=\"DS1iW\" src=\"https://encrypted-tbn0.gstatic.com/images?q=tbn:ANd9GcSf4H69PH931GnFqAEDU8dNgY8VADXmZllVXish056PixlxaO0RMD8NjVzj6w&amp;s\"/>,\n",
       " <img alt=\"\" class=\"DS1iW\" src=\"https://encrypted-tbn0.gstatic.com/images?q=tbn:ANd9GcSGYpXxs-wHW6xDOPXOuTgF_k44slrTIIoAdzaY8fi_SfMZATEubfZC8mcSzto&amp;s\"/>,\n",
       " <img alt=\"\" class=\"DS1iW\" src=\"https://encrypted-tbn0.gstatic.com/images?q=tbn:ANd9GcQPzyn0miosRnsDr19-bd7S1AXoGVP4GPAQINZ71y6HwwbYGGbqFl7PudPc5co&amp;s\"/>,\n",
       " <img alt=\"\" class=\"DS1iW\" src=\"https://encrypted-tbn0.gstatic.com/images?q=tbn:ANd9GcT0w_oErK28vX3g5SYB27pBrjHbOS5N2sYOkhTG7gpPby5cpMyOgJXYQjxzvkI&amp;s\"/>]"
      ]
     },
     "execution_count": 67,
     "metadata": {},
     "output_type": "execute_result"
    }
   ],
   "source": [
    "# Now see the magic, first few images are deleted which we don't have needed coz those were nothing but description\n",
    "image_tags  "
   ]
  },
  {
   "cell_type": "code",
   "execution_count": 68,
   "metadata": {},
   "outputs": [
    {
     "data": {
      "text/plain": [
       "20"
      ]
     },
     "execution_count": 68,
     "metadata": {},
     "output_type": "execute_result"
    }
   ],
   "source": [
    "len(image_tags)  # If u want to check the length you will get number of images "
   ]
  },
  {
   "cell_type": "code",
   "execution_count": null,
   "metadata": {},
   "outputs": [
    {
     "data": {
      "text/plain": [
       "<Response [200]>"
      ]
     },
     "execution_count": 69,
     "metadata": {},
     "output_type": "execute_result"
    }
   ],
   "source": [
    "# If you want to download the images then you have to type \"requests.get()\" the image link in \"f-string\",if u get \"response 200\" everything is ok\n",
    "requests.get(f\"https://encrypted-tbn0.gstatic.com/images?q=tbn:ANd9GcQQpYxDE2Zje7Ds88q0Mx6XTm0jITle8ZaWdfbMyutL6wdRQmOng9s1qmdgC5s&amp;s\")"
   ]
  },
  {
   "cell_type": "code",
   "execution_count": 70,
   "metadata": {},
   "outputs": [
    {
     "data": {
      "text/plain": [
       "b'\\xff\\xd8\\xff\\xe0\\x00\\x10JFIF\\x00\\x01\\x01\\x00\\x00\\x01\\x00\\x01\\x00\\x00\\xff\\xdb\\x00\\x84\\x00\\t\\x06\\x07\\x08\\x07\\x06\\t\\x08\\x07\\x08\\n\\n\\t\\x0b\\r\\x16\\x0f\\r\\x0c\\x0c\\r\\x1b\\x14\\x15\\x10\\x16 \\x1d\"\" \\x1d\\x1f\\x1f$(4,$&1\\'\\x1f\\x1f-=-157:::#+?D?8C49:7\\x01\\n\\n\\n\\r\\x0c\\r\\x1a\\x0f\\x0f\\x1a7%\\x1f%77777777777777777777777777777777777777777777777777\\xff\\xc0\\x00\\x11\\x08\\x00\\x8c\\x00\\x8c\\x03\\x01\"\\x00\\x02\\x11\\x01\\x03\\x11\\x01\\xff\\xc4\\x00\\x1c\\x00\\x00\\x01\\x05\\x01\\x01\\x01\\x00\\x00\\x00\\x00\\x00\\x00\\x00\\x00\\x00\\x00\\x05\\x01\\x02\\x03\\x04\\x06\\x07\\x00\\x08\\xff\\xc4\\x00=\\x10\\x00\\x02\\x01\\x03\\x03\\x01\\x06\\x04\\x03\\x05\\x07\\x04\\x03\\x00\\x00\\x00\\x01\\x02\\x03\\x00\\x04\\x11\\x05\\x12!1\\x06\\x13\"AQaq\\x81\\x91\\xa1\\x07\\x142#3B\\xb1\\xc1Rbr\\x92\\xd1\\xe1\\xf0S\\x82\\xc2\\xf1\\x15\\x16C\\xff\\xc4\\x00\\x19\\x01\\x00\\x02\\x03\\x01\\x00\\x00\\x00\\x00\\x00\\x00\\x00\\x00\\x00\\x00\\x00\\x00\\x00\\x04\\x01\\x03\\x05\\x02\\xff\\xc4\\x00(\\x11\\x00\\x03\\x00\\x02\\x02\\x02\\x01\\x01\\t\\x01\\x00\\x00\\x00\\x00\\x00\\x00\\x00\\x01\\x02\\x03\\x11\\x04!\\x121A\\x13\\x14\"#2Qaq\\xd1\\xe1\\x05\\xff\\xda\\x00\\x0c\\x03\\x01\\x00\\x02\\x11\\x03\\x11\\x00?\\x00\\xd7\\x81N\\x14\\xd1KI\\x8c\\x0e\\xa5\\x06\\x9a)j@vii\\x94\\xb4\\x00\\xec\\xd5\\x8bkIn\\x01h\\xc0\\xd8\\xbdX\\xf4\\x14\\x96\\xb6\\xc6~s\\x81\\xeah\\xb5\\xb3\\xc2\\xaa\"Y\\x01@s\\x83\\xc0\\xcdY1\\xb5\\xb6sU\\xf0\\x8a\\xd1h\\xf2\\xc8\\x9b\\xbb\\xd5\\x07\\xd3\\x15\\r\\xd6\\x99sl\\xbb\\xca\\x86_U\\xa3\\xa2R\\xe3b0\\xc0\\xfe\\xcd)\\x0c\\x06\\x01\\x1c\\xf5\\xae\\x9c\\xc8//\\x93)^\\xa37\\x9ar\\xc9\\x96N\\x1f\\xcb\\xde\\x830*\\xc40\\xc1\\x06\\xabkGI\\x9e4\\x94\\xa6\\x9aMF\\xc0\\xf1\\x14\\xc2)\\xc35\\xea\\x08\\xd1\\x19\\x1cS6\\xd4\\xa7\\xad0\\xd0\\t\\n)\\xd4\\xc0i\\xc0\\xd7$\\x8b^\\xafW\\x85H\\x0bJ\\x00\\'\\x07\\xa5%-\\x00X\\x96\\xfdmc1FQ\\x88\\x1e\\x1eq\\x93\\x8a\\xa7cx\\xe6FYO\\x8b=\\x05f5\\x8db\\xd6[\\xc2\\xb1\\xac\\xa4\\xc3\\'w(\\xc6\\t\\xc7R=p>tcN\\xb8\\x80^9\\x96E\\x112\\x82\\x19y\\x18\\xe3\\x9a\\xb1\\xbd\\xc91\\x0ek\\xb3cc!u,\\x07\\'\\xdf\\xad^B\\xe4t\\xac\\xc3_[\\xda\\xe5\\xa0\\xd4`\\xc0\\x1c+5J\\x9d\\xa0FKy&a\\x04S\\xe7d\\x8d\\xc8lT\\'\\xa2\\xd7>]\\xa0\\xe4\\xd2\\xe0\\x10\\x0e\\x08\\xe4PMCo\\xe6\\xe4\\xdb\\xecH\\xf4$U\\xb3\\xa9X\\xb4ED\\xa6F\\xea\\\\.@\\xf9\\xfaP\\x89.\\r\\xd5\\xcc\\xd3mUVl&\\x0er\\xa0u\\xfetoH\\xa6\\x97c\\x89\\xa6\\xd7\\xb3^\\xae\\x00\\xf5-6\\x90\\x9a\\x00Ri\\xb5\\xeai&\\x8d\\x80\\x8bO\\x15\\x18\"\\x9c\\r@\\x0f\\xaff\\x9bHZ\\x80$\\xcd.j\\x1d\\xdc\\xd0\\xcdS_\\xd3t\\x90\\x7f=y\\x1cL\\x06v\\x0c\\xb3\\xff\\x00\\x94d\\xd4\\xa4\\xeb\\xd2#i\\x01\\xfbKa$:\\x92\\xcdhP\\t\\xa4Y$\\x04r\\x07F#\\xe83Si\\xd6\\xbf\\x9f\\x9b\\xbb\\x12\\xbcv\\xe4\\x12\\xd0\\xc4\\xb8%\\xf8\\xfe!\\xd1N\\x0eTy\\x9c\\xd0[\\xcf\\xc4\\r\\x12\\xfau\\xb7\\x92\\x0b\\x85\\x85w\\x1f\\xcc2\\xf08\\xf2\\x03\\'\\x9a\\xb9\\xa2\\xea \\xda\\xc5y\\x0b\\x1d\\xae\\xa1\\xce\\xdf.9\\xa9r\\xd2\\xeck\\x1d,\\x8b\\xf74c\\xb2\\xd6I\\x0b\\xbeo\\xa3O0\\xf7r`{\\x0ej\\xebvv\\x1b\\x9d\"\\xd5n\\xe5\\x95\\xa3\\x8f9Yd%\\x14\\x13\\xc7\\x19\\xc6\\x00\\xe3\\xe1\\x9a\\xceI\\xda\\x83\\xa8#\\xad\\x95\\xc2A%\\xb1\\x06.\\xfb\\x93+\\x8f\\x8fA\\xf7\\'\\xe1\\xcd\\x8e\\xcf\\xf6\\x93[\\xd4S\\xb9\\x9f\\xb9\\xb6\\xb7\\x8d\\x87yq(> \\x0f!G\\xc3\\xcc\\xfd\\xea4\\x8b|i\\x1a[]\\x1a\\xc7M\\xb7\\xcd\\xb5\\xa5\\x8cn\\xb9\\xda\\xf6\\xea\\x15\\xbe\\xa3\\x9f\\x95W\\xb5\\xb6\\x8a\\xd2\\x05\\x86\\x04\\x08\\x8b\\x93\\x81\\xeay\\'\\xe6y\\xa0\\x96\\x97\\xb71^\\xdc\\xc3\\xa6\\xb8\\xb9\\xd3\\x93\\x95\\xb8\\x98\\xf1\\x1f\\xaag\\xf8\\xbd\\xb1^\\xd3;[\\xa5\\xdf\\xe3t\\x86\\xdaF<,\\xc3\\x01\\xbe\\x07\\xa7\\xd6\\xa6b\\xab\\xb4\\x85\\xf9\\x14\\xa7I\\xb3@+\\xd4\\xd0\\xe0\\x8c\\x82\\x08=1\\xe7^\\xdd\\\\\\x94\\x8e\\xa4\\xa4\\xcd-\\x00!4\\x94\\xa6\\x9b@\\x10\\x83R\\x03P\\xee\\xa5\\rPI6h\\x17h;Mi\\xa2\\xfe\\xc9\\x81\\x9e\\xec\\x8c\\x88P\\xe3\\x1e\\x85\\x8f\\x90\\xfb\\xd5\\xbdcP:~\\x95wv\\xa0\\x16\\x86\"\\xca\\x0f\\x9by\\x0f\\xae+\\x95$\\x9d\\xf8\\x17\\x12\\x12\\xf2;~\\xd1\\xd8\\xe4\\xb1<\\xe4\\xd3\\\\l\\x0b\\'o\\xd0\\xbe|\\xae:AMG\\xb4Z\\xce\\xa5\\x9c\\xdc\\x1bx\\x8f\\xff\\x00\\x95\\xbf\\x84|\\xcfS\\xf5\\xf9P\\x1b\\x8b}\\xa8I\\x1c\\x93\\x93\\xeeh\\xbeB\\xa8\\xc0\\xc8\\xa1\\xfa\\x89r\\x98\\x18\\xe3\\xca\\xb4\\xd4L-$ \\xae\\xa9\\xed\\x99\\xa9\\x97\\xbbs\\x8e\\x84\\xd6\\xff\\x00\\xb1\\x97o\\xff\\x00\\xc2E<|\\x9b9LR\\x03\\xfd\\x92w)\\xfb\\x91XI\\xd87\\x05J\\x91\\xe5Z\\xaf\\xc3+\\x98\\xc6\\xa5{e?\\xeeg\\xb6.G\\xf8O?c\\xf6\\xa4\\xb2J}\\x0fb\\xc8\\xe5\\xa6\\x8e\\x8fiig\\xa9\\xc55\\xe5\\xb4P\\t\\xe5#z\\xb4`\\xf4\\x00s\\xf4\\xa2:f\\x8e#\\xc6`\\xb1\\x84u%a_\\xb7\\x15\\xcb\\xe7\\xd4\\xaf\\xb4)\\x94\\x06v\\x86s\\xbe\\t\\x8brS\\xd0\\xfa\\x90x\\xa2\\xba=\\xfe\\xab\\xafm\\xc4\\xf2Ac\\x1f\\x8a\\xee\\xe4\\xbe\\x02\\xa6\\x7fB\\xfa\\xb9\\xe9\\xc7O\\xa5&\\xa5\\xef\\xc4\\xd3\\xab\\x9f\\x17[/~ v\\x8dE\\xc3i\\x9ak\\x9f\\x1f\\x86G\\x1c\\x00\\xa3\\x83\\x8f\\x8fO\\xaddR\\x1d\\xa4\\x01\\xc2\\x81\\xd2\\x9d\\xae\\xdd%\\xefio&_\\x0ck/v\\x8a\\x7f\\x85S\\xc2>\\xc2\\xa4i\\xe3$$^&\\xfe,t\\x02\\xb5pcQ:0\\xf9\\x19^J\\xd9oN\\xd4/4\\xe2\\x1a\\xc6\\xe1\\xa2\\\\\\xfe\\xef9C\\xff\\x00oJ\\xd8h\\xbd\\xac\\x82\\xe9\\x92\\rAV\\xdes\\xc0p\\x7ff\\xc7\\xfa|\\xfe\\xb5\\x8e\\xb6A\\x81\\x91\\xc5%\\xc41\\xecb\\xf8\\x0b\\xefS\\x97\\x04d]\\xa2\\xb8\\xcdp\\xfa:\\xb0>^t\\xb9\\xac_a\\xb5\\x99\\xa6\\xb8\\x97J\\x99\\xb7\\xa4P\\xf7\\x91\\x16\\xea\\xa3 \\x15?Q[\\x12\\xd5\\x93\\x93\\x1b\\xc7^,\\xd2\\xc7j\\xe7hq4\\x94\\xdd\\xd4\\x9b\\xab\\x83\\xb2\\x02i3M&\\x939\\xa8$\\x13\\xdb\\x12\\x0fgn\\xc1p\\xa7\\xc1\\x8c\\xf9\\x9d\\xeb\\x81\\\\\\xe2\\xcaD\\x10N\\x8d\\xfa\\xb1\\xbb\\x1e\\x85N\\x7f\\xd6\\xb5\\xff\\x00\\x89Sm\\xd1!\\xb6\\x0c\\xca\\xf7\\x17\\n\\x01\\x1eX\\x04\\xf3\\xf3\\xc5`Y\\xa6d\\xfc\\xda\\xa1\\x13Bv\\xdc\\xa7\\x9e?\\xb5\\x8a\\xd3\\xe1\\xf5\\x1b\\x11\\xe4\\xad\\xd1\\xa1\\x83\\xc5\\x02\\x9fQ\\xcd\\x0e\\xd5\\x01\\x84\\xee\\xc6T\\x11\\x9f\\x85?D\\xbcYl\\xb6g&2FO\\xa7\\x95Mz\\xa2X\\xd9H\\xce\\xe1\\xcd8\\xfb[\\x15K\\xc5\\x99\\xeb\\x95\\xdc\\x0f\\xa9\\xe6\\x97@\\x92huh\\xc4\\x1f\\xaeP\\xd1\\x0ez\\xee\\x1d?\\x951\\x95\\x87\\r\\x9c\\xa9\\xc1\\xa9\\xb4\\xb3\\xdcjV\\xf7\\x19\\xc0\\x8eU|\\xfc\\x08?\\xd2\\x97\\xb9\\xf2\\x18\\x9a\\xf1:k\\xe9v\\xda\\x9e\\x9alnbh\\xf7\\xe1\\xe1c\\xd6\\'\\xe9\\xc7\\xcf\\xedV.\\xb4D\\xd2;<\\x93\\xaf\\xee\\xac\\xcfz\\xab\\xd0\\x10\\x9e#\\xf3$}Mj\\xa4\\xb5\\x8d\\xcc3,d\\xe7.\\x00\\x19\\xe7\\xa7O\\x8d\\r\\xfcM\\x94ZvlZ\\x8e\\x1efT#\\xdb$\\x9f\\xb05Z\\x85\\xbd\\x1d<\\xb5\\xa3\\x8eF\\x19\\xe5/!\\x19\\',}M\\x16\\x86$X\\x8b\\x8c\\x05\\xeaq\\xe7T\\xed\\xd3\\xc7\\xc8\\xab-\\x80\\xe24\\x18\\x0b\\xc9\\x1e\\xf4\\xe2ZB\\xad\\xec#h\\x03.\\t\\xaa:\\x95\\xca\\xcbt\\xb6\\xa0\\xf1\\xfa\\x9f\\xfc#\\xadM\\xf9\\x95\\xb5\\xb2\\x92Y\\x08\\x1e\\x9f\\x1a\\xce\\xdb\\xc9%\\xc1\\x96\\\\\\x92\\xf3q\\xf0Z\\x8d\\xfc\\x07\\x8f\\xc9\\xa8\\xec\\x0c\\xbb\\xbbP\\xf2\\x7f\\xd4\\xb7\\x90}\\xd4\\xff\\x00J\\xe9{\\xeb\\x99v($=\\xa4\\xb5B\\xde#\\x1c\\x9d>\\x1d?\\xe7\\xa5t\\xaa\\xcd\\xe6/\\xc4\\x1f\\xe3?\\xb8;vk\\xd4\\x82\\xbdI\\x0c\\x90\\x06\\xaf\\x13P\\xee\\xe6\\x97q\\xa0\\x0cg\\xe2U\\xd2\\xa3i\\xb0\\xb7\\x192>}1\\x81\\xfd~\\xd5\\x98`\\xef\\x11\\x96\\tUd+\\x82H\\xe1\\x80\\xf25\\x7f\\xb5\\xd7qj}\\xa5\\x925`\\xd1\\xc1\\x18\\x88\\x11\\xd3p\\xe5\\xbe\\xe7\\x1f*\\r,o`A\\xf14-\\xc3y\\xe3\\xde\\xb6x\\xeb\\xc7\\x1a\\xd9\\x9d\\x99\\xee\\xfa \\xd3\\xa6hu\\tU\\x90G\\xbf\\xaa\\x83\\xc6}\\xa8\\xfb\\xb22\\xf8\\xba\\xd6^F\\x11\\xdf\\xa3\\xaf\\xe9<\\x8fqG\\xe1\\x900\\x1c\\x8eE[\\x0f\\xe0\\xaf\\'\\xeaP\\xbd\\x8f\\xbb\\x9fp\\x1e\\x17\\x18\\xf9\\xd3 \\x00H289\\x18\\xab\\xf7p\\x19\"`\\xbdG#\\xe2*\\x920*\\x1c\\x0ej\\x1a\\xec\\x13\\xda;\\xdfg\\xa6\\xfc\\xed\\x85\\x8c\\xearM\\xaa\\x1e\\xbeg$\\xd6;\\xf1B\\xed\\xde\\xee\\xca\\xd5\\xceJ#\\xc8\\xdc\\xfc\\x00\\xff\\x00\\xca\\x8f~\\x19\\\\\\xee\\xec\\xc4\\x04\\xb2\\xe5$\\x91\\x01=I\\xce@\\xfa\\x1a\\xc1\\xf6\\xf6\\xf1\\xee\\xbbOv\\\\\\xfe\\xefdC\\xe42~\\xe4\\xfd*\\xb9\\xfc\\xe4\\xd7\\xa0e\\x9a\\xf0\\xce\\xc4\\x0f\\x8dy\\x08f\\xce<G\\xca\\xaaKu\\xb61\\x1a\\x00\\xe4~\\xa0x\\x15\\x04\\xb7\\x12\\xcc\\xe4\\xb3m\\xfe\\xec|\\n\\xbbg\\t\\x10v\\x8e\\xe0\\xc8c\\xb6F\\xe9\\xcb.|\\xea\\xce\\x9b\\xdd\\xc7\\x02\\x97\\xc9\\'\\x80\\x00\\xce~\\x14\\nb\\x1e\\xef\\x00dg\\xa5ht\\xe2S\\xf6\\xc5@\\xc7\\x0b\\xfd\\xea\\xe2;\\xa6\\xcb-jR/h\\xb2\\xad\\x9fh\\xf4\\xe9fS\\x96\\x9b\\xbb\\xc0<\\xae\\xe0FO\\xd6\\xba\\x9ek\\x8e\\xcb3%\\xd5\\xbc\\xcc\\xdc\\xac\\xca\\xdb\\x8f\\x18\\xe6\\xba\\xf8bI\\xe4b\\x93\\xe6\\xae\\xd3\\x18\\xe2\\xfad\\xa0\\xd7\\xaa\"\\xf8\\xe9I\\xbc\\xd6x\\xe6\\x8a\\xb9\\xaa\\xfa\\x8d\\xdf\\xe4\\xec..z\\x98\\xa3,=\\xcf\\x90\\xfa\\xd4\\xa4\\xe2\\xb3\\xfd\\xb4\\xbd\\xee4V\\x882\\x87\\x99\\xd5F\\xef \\x0eI\\xfb}\\xeb\\xack\\xca\\x929\\xb7\\xa9l\\xe7\\xb6e\\xc4\\x92H\\xe7t\\xbb\\xc99\\x1dI9\\xa3q2^[0%\\x95\\xb1\\x86\\xc0\\xc6\\xdf\\xad\\x0c\\xcc\\xe5D\\x9f\\x98^FA\\xee\\xc74\\xb2E~\\x11$\\x8e\\xe5r\\xdc\\x98\\x9b\\xc2H\\xf8\\n\\xdc]-h\\xca\\x7fy\\xfb\\x06\\xeaV\\xa6\\xda@K\\x83\\x96;|\\x88\\xab\\xbam\\xe4a6HHa\\xd2\\x85\\xdf\\xf7\\x86\\xe0\\xb4\\x88P\\x9f\"s\\x8a\\x8e&\\xda\\xe0\\xd5*\\xf5]\\x17\\xb8\\xdc\\xf6h\\xda~\\xf1\\xb0\\xac\\x05Ul$\\xef\\x18 \\x83\\xe2\\x1f\\n\\x1f\\xdf\\xb6O\\x14\\x7f\\xb3\\xdd\\x9d}v)f\\x8bP\\x82\\xdeH\\x9bbG>Gxp\\x0e2:u\\x1eF\\xba\\xac\\x89vs\\x18\\xa9\\xbd#\\xa7\\xfe\\t\\xddD\\xda6\\xb1o(S\\xf9y\\x16\\xe1ws\\xb7r\\x95$\\x7f\\x96\\xb9~\\xa5vn\\xef\\xae.X\\x93\\xde\\xca\\xf2|\\x89$}\\xa8\\x8e\\x99\\xa9\\xddvA\\xf5[\\x0b\\x84h./-L*3\\xc6\\xe3\\xc09\\x1dF\\t9\\x15\\x9f\\x99I\\x94F8 \\xe1\\x87\\x98\\xf3\\xa2}\\xb6r\\xd3\\xf4\\xc9\\xad\\xd3(\\xd399~@\\xf6\\xf2\\xa8o\\xa7\\x10\\xc6V0\\x01#\\xca\\x9e\\xc4\\xc62\\x18\\x05\\x14&\\xeeS#\\x9es\\x8f:\\x9a\\xa5(\\x99[cmAi\\x89\\xe4\\xe3\\x9e\\ri,\\xe4U\\x88w\\xa0\\xee>X\\xfe\\x95\\x97\\xb7\\xc9\\x98\\x05\\xdf\\xb8\\xf06u\\xad\\x1d\\xbaj\\x03+\\x00t@837\\'\\xe5Q\\x85\\x93\\x95\\x0b\\x7fgqp\\x01XY\"\\xea^N\\x06>\\x1dk\\xa7h\\x0e\\xc7C\\xb1.\\xdb\\x89\\x819\\xf5\\xe2\\xb9m\\xce\\xabq\\x1a\\x9b{\\xd8Y\\x03\\x0cn\\x07 \\xfb\\xe6\\xba\\x0fb\\xe6i{9i\\xb8\\xe7f\\xf4\\x07>A\\xc8\\x1fj[\\x98\\xf7(\\xb7\\x8d\\xb5F\\x835\\xeaAK\\x91Y\\xc3\\xa0\\xd3(\\xf3\\xac\\x0fo\\xa6\\xef\\xf5{\\x183\\x84X\\xcb\\x1c\\xfb\\x9f\\xf6\\xad\\x9e\\xec\\x8ek\\x11\\xdb\\xdbW[\\x88/W\\xf42w\\'\\xd8\\xf5\\xfeY\\xabx\\xed,\\x8bg\\x19S\\xf1\\x05A{\\xfbB\\x90\\xa2\\x908\\x127\\x90\\xf6\\x1eUb\\x11\\n\\xb6\\xf7#\\x07\\x9ez\\x93A\\xa2c\\x10\\xdf\\x9e\\xbd*Ub\\xd8$\\xf3Z\\xd3fu@B\\xfa\\x0b[\\xcc8,\\xaf\\xea\\xab\\xd6\\xa3\\xd3{-\\xadj\\x9b\\xdfI\\xb0\\x9e\\xf9#8f\\x822@\\xf6\\xcfL\\xfbf\\x8av/O\\xb6\\xd4u\\xe8c\\xbf\\x0c\\xd6\\xa8\\x0b\\xc8\\x80\\xe3~:.k\\xaa5\\xec\\xda\\xcd\\xec\\xfal\\n\\x96:.\\x9c\\xa1V\\xd2\\x1c(\\xb8m\\xa1\\xb0q\\xfc<\\xf4\\xfa\\xe6\\xa9\\xcdp\\xbf\\x92\\xec8\\xed\\xff\\x00\\x07\\'\\xb2\\xec\\xa6\\xb3q\\x98\\xc6\\x9d2\\xc8:\\xef]\\xa0\\x0f\\x89\\xe2\\xba\\x1fc\\xb4\\x1d7D\\x86C\\xaa=\\xb4\\x97\\x0e\\xc0\\x90\\xfe-\\x9e\\x80t\\x1f\\xfb\\xa2Z\\x8d\\xfd\\xcc\\xb3-\\x94I\\x0cLH1$\\x8c\\xde0=\\x14\\x0e~\\x19\\xa03vN\\xd2\\xe6\\xe1\\xe4\\xbd\\xd6b\\xb7\\xdcI\\xee\\xed\\xc1?l\\x8c}\\xe9<\\x99\\x9d-\\x1a<~:Om\\x9b\\xab+\\xfd6\\xe8\\xbbY\\xc9\\x14\\xa6!\\xb4\\xacq\\x83\\xdd\\xfbpx\\xa1\\xda\\xd5\\xb5\\x9d\\xed\\xac\\x92j\\xf6\\x10\\xc8\\x85J\\xfeaT\\x16A\\xeb\\xcf#\\xaf\\x95S&\\xd3K\\xd2]t+\\xb8\\xdd\\xa0_\\xd3/\\x00\\x1f\\\\\\x86\\xe3?\\n\\x1fe\\xf8\\x83\\x0c\\xc8c\\xd4\\xfb\\xb6rp\\xf1\\x9cg5_\\xd4\\xd7\\xc9o\\xd0\\xf2\\xf8\\xfe\\xcei\\xac\\xe97\\xf6WrZw\\x12\\xccU\\xbc/\\x12\\x16\\xde\\xbeL1\\xecG\\xd6\\x84&\\x9br\\xe7\\xf4q\\x9ey\\x1cW\\xd0\\xba]\\xeb\\x0b@t\\xe6\\x10H\\x17t{T\\xf8s\\xc8\\x0c:\\x1fC\\xfd)\\xd1[h\\x7f\\x88\\x9a|\\xab<\\x11\\xd9\\xeb\\x96\\xe0\\x89\\x19\\x06\\x180\\xe3?\\xde\\\\\\xfa\\xf2>\\xf4\\xdcf\\x9b\\xfc\\xc6v\\\\5\\x1b\\xf18E\\xa5\\x87v\\x00Pw\\xfa\\xe6\\x8a\\xc1$\\xb1\\x03\\x1b\\xb9#\\x1c\\x02j\\xf6\\xad\\xa7\\\\i\\x1a\\x84\\xf6\\x17hRh\\x0e\\x08\\x03\\x86\\x1eL\\xbe\\xaa|\\x8f\\xfab\\x87\\xcb0@w\\xa9#\\xd4\\n~u\\xae\\x8c\\xf6\\xdb}\\x8e\\xba\\x95\\x7f.\\xcaH\\r\\x8eA\\x19\\x14[\\xf0\\xde\\xf7r^Zt\\x08\\xcb _%\\xcf\\x1c{\\x1c\\x03Y;\\xcb\\xa8\\x87IC+q\\x91\\xe5ZO\\xc3;Y\\x11.\\xee\\\\q\\x91\\x12\\x9f\\\\d\\x9f\\xe7Jr\\xe9x\\xe8o\\x8f/g@\\rK\\x9a\\x8c\\x1a\\\\\\xd6P\\xf0\\x1b\\xbbS\\xd4c\\xda\\xb3=\\xa8\\tr\\xa9l7\\x04\\xce[\\xc4FkW\\x81\\xcf\\xfc\\xf4\\xac\\xe6\\xaf\\x1a\\x99\\xc3\\x11\\xcd+6\\xd3\\xda5V9kM\\x18\\xe9\\xf4g\\x0c;\\x99\\t\\xe3 0\\xe9U^\\xc2\\xf2&\\xcfw\\xbb\\xcf\\xc2sZ\\x99\\xd4F\\x91\\x85\\x1c0\\x19\\xa8\\xe5\\xea\\xc3\\xd0SQ\\xc9\\xc8\\x8a/\\x85\\x8a\\xbf`F\\x97q\\xa8\\xe9\\x17ku\\x04L\\xe7\\xa9B\\xa7\\x9a\\xd7I\\xdb>?3\\x1d\\xb4\\xd6\\xd3\\x10\\x03\\xab\\xc2z\\xe3\\x04\\x83\\xd0\\x8cy\\x1a\\xab\\xa1F\\xb3^\\x01 \\xc8\\x1c\\x01Z)\\xec\\xe0\\x90\\xecd\\x1b@\\xe9Er\\x1b\\xed\\xa2g\\x87\\xe2\\xf4\\xa8\\xa3\\xa5\\xf6\\x9a\\xd7R\\xbbQwu\\x1a\\xa8\\x8c\\x9f\\x12mn<\\xb29\\xa1\\xb7\\x96\\xa5\\xa7v\\xb4\\xd6c\\x11\\x1eV6\\x8c\\xf0=\\xf3\\x9f\\xe7R\\xdei6r\\xbb\\xee\\x8c\\x8c\\x03\\x82\\xa7\\x07\\xa1\\xa0S\\xe9P#\\xe1\\x1e`\\n\\x92\\x7fhk\\x95\\x96h\\xb9b\\xa8[\\xff\\x00\\x03:f\\xb0\\x9a\\x1d\\xdb\\xcb\\xb6\\x19\\xa6\\xc7\\xef\\x9c\\xefQ\\xf0R8\\xfaQ\\x9f\\xfe\\xddo\\xab\\xc8\\xa84\\xa8.\\xaeGG\\xee3\\xb7\\xdf8\\xe0V.-\"\\xd9\\xa7\\xc1iz\\x03\\xfa\\xe8\\xde\\x99\\xa5\\xdb\\xc2eTi\\x82\\xed\\x19Q)\\x01\\xbd\\x8e:\\x8a\\x1eY\\x9fM\\x9d,o#\\xeeQ\\xb6\\xd3\\xef\\xde\\xd5\\xc3jWp\\xac`xa\\xde8\\xf8\\x9f\\xf6\\x1f:\\xceE\\xa9\\xcdk\\xdb(\\xf54\\xb7\\xbc\\xb4\\xb3W&[\\x91\\x1b,`\\x1e\\t\\xdcF\\xd2?\\xe74F\\xdfD\\xd3@\\xc8\\xb4\\x8f#\\xcfo=3C\\xe3\\x81.uH\\xed\\xee3$;\\xbfC\\x9d\\xc0|3R\\xb3\\xadz(\\xae;\\xef\\xb0Oo\\xbbp\\xdd\\xa1\\x96\\x15\\x82\\xda\\xd9\\xa4\\xb6\\'\\x17\\xc8\\xac\\xac\\xc3\\xccc8\\xc1\\xac\\xb3\\xde^\\xddH?-\\x0b`u8\\xe0\\xd6\\xdf\\xb46\\x16\\xf6,\\xadn\\xa4\\x16`\\x08\\'#\\x14=\\xe2D\\x91v\\x8a\\xbb\\xed\\x97\\x0bH]\\x7f\\xce\\x8b~M\\x99X\\xac\\'IK\\xddF\\xbb?\\x899\\xe7\\x9e\\x9ct\\xae\\x8d\\xa2jI5\\xacq\\xdaG\\x1cH\\x83hE\\x18\\xdbA\\xee\\xe0\\x8c\\xc0\\x18\\x8e}\\xaaN\\xcd\\x01\\x1d\\xf0\\x0b\\xd0\\x9eiz\\xcfYgl\\xbb\\xec\\xb8\\xf1\\xbd#Xd\\x98\\x8c\\x86\\\\\\xff\\x00\\x86\\xa17W \\xe3\\xc3\\xfeZ\\xba\\xaa\\x06x\\xa8\\xd9W=\\x07\\xd2\\xa9\\xf3d\\xfd)\\xfd\\x0f\\xff\\xd9'"
      ]
     },
     "execution_count": 70,
     "metadata": {},
     "output_type": "execute_result"
    }
   ],
   "source": [
    "# If u want to get Binary form of the image then the syntax will be the same above code and put \".content\" at the end\n",
    "requests.get(f\"https://encrypted-tbn0.gstatic.com/images?q=tbn:ANd9GcQQpYxDE2Zje7Ds88q0Mx6XTm0jITle8ZaWdfbMyutL6wdRQmOng9s1qmdgC5s&amp;s\").content"
   ]
  },
  {
   "cell_type": "code",
   "execution_count": 71,
   "metadata": {},
   "outputs": [
    {
     "name": "stdout",
     "output_type": "stream",
     "text": [
      "https://encrypted-tbn0.gstatic.com/images?q=tbn:ANd9GcTyDECifPErek1mCVySYBoYNGjcta4G5CLMlVF55v4GXaOnmw0TafKq3-kL8k4&s\n",
      "https://encrypted-tbn0.gstatic.com/images?q=tbn:ANd9GcRczTw15eTa_W8DmazmEAdsHIeyBmU3ojuKrR82zdGqwLBefseGXO4I_hPoYQ&s\n",
      "https://encrypted-tbn0.gstatic.com/images?q=tbn:ANd9GcQQpYxDE2Zje7Ds88q0Mx6XTm0jITle8ZaWdfbMyutL6wdRQmOng9s1qmdgC5s&s\n",
      "https://encrypted-tbn0.gstatic.com/images?q=tbn:ANd9GcTik0PdtU7Y2Z8bqH9HrIzX3DgXfv7XLrwCPu_MHPnf0YJzvaFQkFy57PIuDFI&s\n",
      "https://encrypted-tbn0.gstatic.com/images?q=tbn:ANd9GcQiYDqaNaAiO7qqkzWsBJgdqpFdZCg_MMS_nSI5cWgt2Ni9LYfmvCPLxi5cSc0&s\n",
      "https://encrypted-tbn0.gstatic.com/images?q=tbn:ANd9GcSbQn3Wao9W3yK3BFpglnJ9NpX-hnLvNhxn22vulL_MiX7EUViQv2wjDICR7GI&s\n",
      "https://encrypted-tbn0.gstatic.com/images?q=tbn:ANd9GcRGD7ffHbdQQsxILJrZO-ImN9BEISDV4ysR2C9JkTDAWgSlsvh8R74VwZvnDA&s\n",
      "https://encrypted-tbn0.gstatic.com/images?q=tbn:ANd9GcR_BuX34KWMcukyKyZ6mu3LeAJ2USZcwOJWNgSklL7FlNbhB4peILu3Kb6C-CE&s\n",
      "https://encrypted-tbn0.gstatic.com/images?q=tbn:ANd9GcSnabz50D7X-HfTvIF8W5KqqWYPdJvxNc7ZkKi6MjhntBke8c4rlnoSsLgRww&s\n",
      "https://encrypted-tbn0.gstatic.com/images?q=tbn:ANd9GcStweJm3qlKM9u3bmP6jtffAqszgu8O8uFU2ukC8JZwGmqa-SQgiBw4L9mmAw8&s\n",
      "https://encrypted-tbn0.gstatic.com/images?q=tbn:ANd9GcSKKnEsPxG0DWmPKWZdYfosIrYd0o7WPGujqJV69j9s4GzQd5BN_qO7EUaTTQ&s\n",
      "https://encrypted-tbn0.gstatic.com/images?q=tbn:ANd9GcTnC2_BXlVu4S4OpD6D-DdpTBvtD52dDivl9y3L3wbAR6qUW1loTZ_l875UWQ&s\n",
      "https://encrypted-tbn0.gstatic.com/images?q=tbn:ANd9GcQvLqt7jPzJxdhbc07Ms5VzKKscxjlk5cqatNNlthKwnOjGhWIY1cws9lyufQ&s\n",
      "https://encrypted-tbn0.gstatic.com/images?q=tbn:ANd9GcQ-UxxgT6xEJwPeixXBm44G2nb7_DgcLJR2EiaeuHSrdYcFu4ToadJjyW1kvsE&s\n",
      "https://encrypted-tbn0.gstatic.com/images?q=tbn:ANd9GcR29AaY_YlZjQjDMPvQYwMpD4lVC58LuIHJqO0bYFN8QPnBnRsEuzBwZknBRg&s\n",
      "https://encrypted-tbn0.gstatic.com/images?q=tbn:ANd9GcTjBl1Pk_rePzPGN0WrvS95qMn_o_7RCF2JarAL1pW0GtfEGBCAaAMy0orojw&s\n",
      "https://encrypted-tbn0.gstatic.com/images?q=tbn:ANd9GcSf4H69PH931GnFqAEDU8dNgY8VADXmZllVXish056PixlxaO0RMD8NjVzj6w&s\n",
      "https://encrypted-tbn0.gstatic.com/images?q=tbn:ANd9GcSGYpXxs-wHW6xDOPXOuTgF_k44slrTIIoAdzaY8fi_SfMZATEubfZC8mcSzto&s\n",
      "https://encrypted-tbn0.gstatic.com/images?q=tbn:ANd9GcQPzyn0miosRnsDr19-bd7S1AXoGVP4GPAQINZ71y6HwwbYGGbqFl7PudPc5co&s\n",
      "https://encrypted-tbn0.gstatic.com/images?q=tbn:ANd9GcT0w_oErK28vX3g5SYB27pBrjHbOS5N2sYOkhTG7gpPby5cpMyOgJXYQjxzvkI&s\n"
     ]
    }
   ],
   "source": [
    " # If u want to get all the links you have to fetch \"src\" and \"src\" is \"html-keyword\" it means \"source\" \n",
    "for i in image_tags:  \n",
    "    print(i[\"src\"])"
   ]
  },
  {
   "cell_type": "code",
   "execution_count": 72,
   "metadata": {},
   "outputs": [
    {
     "name": "stdout",
     "output_type": "stream",
     "text": [
      "0\n",
      "1\n",
      "2\n",
      "3\n",
      "4\n",
      "5\n",
      "6\n",
      "7\n",
      "8\n",
      "9\n",
      "10\n",
      "11\n",
      "12\n",
      "13\n",
      "14\n",
      "15\n",
      "16\n",
      "17\n",
      "18\n",
      "19\n"
     ]
    }
   ],
   "source": [
    "# If you want to get the image of index then\n",
    "for i in image_tags:\n",
    "    print(image_tags.index(i))\n"
   ]
  },
  {
   "cell_type": "code",
   "execution_count": null,
   "metadata": {},
   "outputs": [],
   "source": [
    "# If you want to download these images then u have to request the URL\n",
    "for i in image_tags:\n",
    "    image_url=i[\"src\"]\n",
    "    image_data=requests.get(image_url).content\n",
    "    with open(os.path.join(save_dir,f\"{query}_{image_tags.index(i)}.jpg\"),\"wb\") as f: # you will get your image in your created directory and \"wb\" means write byte\n",
    "        f.write(image_data)  # Then go and check to your creaded directry in desired drive\n",
    "    \n",
    "# This is the final \"image scraping\" code"
   ]
  }
 ],
 "metadata": {
  "kernelspec": {
   "display_name": "Python 3",
   "language": "python",
   "name": "python3"
  },
  "language_info": {
   "codemirror_mode": {
    "name": "ipython",
    "version": 3
   },
   "file_extension": ".py",
   "mimetype": "text/x-python",
   "name": "python",
   "nbconvert_exporter": "python",
   "pygments_lexer": "ipython3",
   "version": "3.12.4"
  }
 },
 "nbformat": 4,
 "nbformat_minor": 2
}
